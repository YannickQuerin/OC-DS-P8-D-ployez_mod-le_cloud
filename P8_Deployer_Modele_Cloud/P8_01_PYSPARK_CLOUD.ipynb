{
 "cells": [
  {
   "cell_type": "markdown",
   "id": "f66327cf-df6f-48cb-baf6-f3e9178fa73e",
   "metadata": {},
   "source": [
    "#  <span style='color:DarkBlue'>P8 - Deployer un modèle dans le Cloud</span>"
   ]
  },
  {
   "cell_type": "markdown",
   "id": "f26cfd82-78ba-4af9-9fb3-8f0dc15fb89a",
   "metadata": {},
   "source": [
    "<div style=\"text-align:center\">\n",
    "    <img src=\"images/logo_P8.png\" width=\"50%\">\n",
    "</div>"
   ]
  },
  {
   "cell_type": "markdown",
   "id": "77c0bb30-281c-41c3-8590-59db291ba421",
   "metadata": {},
   "source": [
    "# P8_01_02 - CLOUD - Utilisation d'AWS"
   ]
  },
  {
   "cell_type": "markdown",
   "id": "ecba4056-ae10-4f69-b6fc-54010c492b4f",
   "metadata": {},
   "source": [
    "Ce notebook traite de du chargement du jeu de données des images, du pré-processing, de la réduction de dimension et d'une mini classification pour des nouvelles images en utilisant l'outils **Amazon Web Services** pour la partie \"**compute**\" (calculs distribués) et un **container blob de stockage** \"**Data Lake Storage**\"."
   ]
  },
  {
   "cell_type": "markdown",
   "id": "655aafb1-8c75-4981-9e7b-3ef8f2576df4",
   "metadata": {},
   "source": [
    "# 1. Sommaire :\n",
    "\n",
    "**1. Préambule**<br />\n",
    "&emsp;1.1 Problématique<br />\n",
    "&emsp;1.2 Objectifs dans ce projet<br />\n",
    "&emsp;1.3 Déroulement des étapes du projet<br />\n",
    "**2. Choix techniques généraux retenus**<br />\n",
    "&emsp;2.1 Calcul distribué<br />\n",
    "&emsp;2.2 Transfert Learning<br />\n",
    "**3. Déploiement de la solution en local**<br />\n",
    "&emsp;3.1 Environnement de travail<br />\n",
    "&emsp;3.2 Installation de Spark<br />\n",
    "&emsp;3.3 Installation des packages<br />\n",
    "&emsp;3.4 Import des librairies<br />\n",
    "&emsp;3.5 Définition des PATH pour charger les images et enregistrer les résultats<br />\n",
    "&emsp;3.6 Création de la SparkSession<br />\n",
    "&emsp;3.7 Traitement des données<br />\n",
    "&emsp;&emsp;3.7.1 Chargement des données<br />\n",
    "&emsp;&emsp;3.7.2 Préparation du modèle<br />\n",
    "&emsp;&emsp;3.7.3 Définition du processus de chargement des images et application <br />\n",
    "&emsp;&emsp;&emsp;&emsp;&emsp;de leur featurisation à travers l'utilisation de pandas UDF<br />\n",
    "&emsp;&emsp;3.7.4 Exécution des actions d'extractions de features<br />\n",
    "&emsp;3.8 Chargement des données enregistrées et validation du résultat<br />\n",
    "**4. Déploiement de la solution sur le cloud**<br />\n",
    "&emsp;4.1 Choix du prestataire cloud : AWS<br />\n",
    "&emsp;4.2 Choix de la solution technique : EMR<br />\n",
    "&emsp;4.3 Choix de la solution de stockage des données : Amazon S3<br />\n",
    "&emsp;4.4 Configuration de l'environnement de travail<br />\n",
    "&emsp;4.5 Upload de nos données sur S3<br />\n",
    "&emsp;4.6 Configuration du serveur EMR<br />\n",
    "&emsp;&emsp;4.6.1 Étape 1 : Logiciels et étapes<br />\n",
    "&emsp;&emsp;&emsp;4.6.1.1 Configuration des logiciels<br />\n",
    "&emsp;&emsp;&emsp;4.6.1.2 Modifier les paramètres du logiciel<br />\n",
    "&emsp;&emsp;4.6.2 Étape 2 : Matériel<br />\n",
    "&emsp;&emsp;4.6.3 Étape 3 : Paramètres de cluster généraux<br />\n",
    "&emsp;&emsp;&emsp;4.6.3.1 Options générales<br />\n",
    "&emsp;&emsp;&emsp;4.6.3.2 Actions d'amorçage<br />\n",
    "&emsp;&emsp;4.6.4 Étape 4 : Sécurité<br />\n",
    "&emsp;&emsp;&emsp;4.6.4.1 Options de sécurité<br />\n",
    "&emsp;4.7 Instanciation du serveur<br />\n",
    "&emsp;4.8 Création du tunnel SSH à l'instance EC2 (Maître)<br />\n",
    "&emsp;&emsp;4.8.1 Création des autorisations sur les connexions entrantes<br />\n",
    "&emsp;&emsp;4.8.2 Création du tunnel ssh vers le Driver<br />\n",
    "&emsp;&emsp;4.8.3 Configuration de FoxyProxy<br />\n",
    "&emsp;&emsp;4.8.4 Accès aux applications du serveur EMR via le tunnel ssh<br />\n",
    "&emsp;4.9 Connexion au notebook JupyterHub<br />\n",
    "&emsp;4.10 Exécution du code<br />\n",
    "&emsp;&emsp;4.10.1 Démarrage de la session Spark<br />\n",
    "&emsp;&emsp;4.10.2 Installation des packages<br />\n",
    "&emsp;&emsp;4.10.3 Import des librairies<br />\n",
    "&emsp;&emsp;4.10.4 Définition des PATH pour charger les images et enregistrer les résultats<br />\n",
    "&emsp;&emsp;4.10.5 Traitement des données<br />\n",
    "&emsp;&emsp;&emsp;4.10.5.1 Chargement des données<br />\n",
    "&emsp;&emsp;&emsp;4.10.5.2 Préparation du modèle<br />\n",
    "&emsp;&emsp;&emsp;4.10.5.3 Définition du processus de chargement des images<br />\n",
    "&emsp;&emsp;&emsp;&emsp;&emsp;&emsp;&emsp;et application de leur featurisation à travers l'utilisation de pandas UDF<br />\n",
    "&emsp;&emsp;&emsp;4.10.5.4 Exécutions des actions d'extractions de features<br />\n",
    "&emsp;&emsp;4.10.6 Chargement des données enregistrées et validation du résultat<br />\n",
    "&emsp;4.11 Suivi de l'avancement des tâches avec le Serveur d'Historique Spark<br />\n",
    "&emsp;4.12 Résiliation de l'instance EMR<br />\n",
    "&emsp;4.13 Cloner le serveur EMR (si besoin)<br />\n",
    "&emsp;4.14 Arborescence du serveur S3 à la fin du projet<br />\n",
    "**5. Conclusion**"
   ]
  },
  {
   "cell_type": "markdown",
   "id": "96866d54-1cae-4bb5-a2bd-31d2edd6a678",
   "metadata": {},
   "source": [
    "# 2. Préambule\n",
    "\n",
    "## 2.1 Problématique\n",
    "\n",
    "La très jeune start-up de l'AgriTech, nommée \"**Fruits**!\", <br />\n",
    "cherche à proposer des solutions innovantes pour la récolte des fruits.\n",
    "\n",
    "La volonté de l’entreprise est de préserver la biodiversité des fruits <br />\n",
    "en permettant des traitements spécifiques pour chaque espèce de fruits <br />\n",
    "en développant des robots cueilleurs intelligents.\n",
    "\n",
    "La start-up souhaite dans un premier temps se faire connaître en mettant <br />\n",
    "à disposition du grand public une application mobile qui permettrait aux <br />\n",
    "utilisateurs de prendre en photo un fruit et d'obtenir des informations sur ce fruit.\n",
    "\n",
    "Pour la start-up, cette application permettrait de sensibiliser le grand public <br /> \n",
    "à la biodiversité des fruits et de mettre en place une première version du moteur <br />\n",
    "de classification des images de fruits.\n",
    "\n",
    "De plus, le développement de l’application mobile permettra de construire <br />\n",
    "une première version de l'architecture **Big Data** nécessaire.\n",
    "\n",
    "## 2.2 Objectifs dans ce projet\n",
    "\n",
    "1. Développer une première chaîne de traitement des données qui <br />\n",
    "   comprendra le **preprocessing** et une étape de **réduction de dimension**.\n",
    "2. Tenir compte du fait que <u>le volume de données va augmenter <br />\n",
    "   très rapidement</u> après la livraison de ce projet, ce qui implique de:\n",
    " - Déployer le traitement des données dans un environnement **Big Data**\n",
    " - Développer les scripts en **pyspark** pour effectuer du **calcul distribué**"
   ]
  },
  {
   "cell_type": "markdown",
   "id": "066d6bc6-1ab5-4730-a37e-2ea551a14ab5",
   "metadata": {},
   "source": [
    "## 2.3 Déroulement des étapes du projet\n",
    "\n",
    "Le projet va être réalisé en 2 temps, dans deux environnements différents. <br />\n",
    "Nous allons dans un premier temps développer et exécuter notre code en local, <br />\n",
    "en travaillant sur un nombre limité d'images à traiter.\n",
    "\n",
    "Une fois les choix techniques validés, nous déploierons notre solution <br />\n",
    "dans un environnement Big Data en mode distribué.\n",
    "\n",
    "<u>Pour cette raison, ce projet sera divisé en 3 parties</u>:\n",
    "1. Liste des choix techniques généraux retenus\n",
    "2. Déploiement de la solution en local\n",
    "3. Déploiement de la solution dans le cloud"
   ]
  },
  {
   "cell_type": "markdown",
   "id": "25eab3d7-1376-4b72-96fa-15dd642288bf",
   "metadata": {},
   "source": [
    "# 3. Choix techniques généraux retenus"
   ]
  },
  {
   "cell_type": "markdown",
   "id": "87cb274c-4518-43da-96a1-c3253dfdf872",
   "metadata": {},
   "source": [
    "## 3.1 Calcul distribué\n",
    "\n",
    "L’énoncé du projet nous impose de développer des scripts en **pyspark** <br />\n",
    "afin de <u>prendre en compte l’augmentation très rapide du volume <br />\n",
    "de donné après la livraison du projet</u>.\n",
    "\n",
    "Pour comprendre rapidement et simplement ce qu’est **pyspark** <br />\n",
    "et son principe de fonctionnement, nous vous conseillons de lire <br />\n",
    "cet article : [PySpark : Tout savoir sur la librairie Python](https://datascientest.com/pyspark)\n",
    "\n",
    "<u>Le début de l’article nous dit ceci </u>:<br />\n",
    "« *Lorsque l’on parle de traitement de bases de données sur python, <br />\n",
    "on pense immédiatement à la librairie pandas. Cependant, lorsqu’on a <br />\n",
    "affaire à des bases de données trop massives, les calculs deviennent trop lents.<br />\n",
    "Heureusement, il existe une autre librairie python, assez proche <br />\n",
    "de pandas, qui permet de traiter des très grandes quantités de données : PySpark.<br />\n",
    "Apache Spark est un framework open-source développé par l’AMPLab <br />\n",
    "de UC Berkeley permettant de traiter des bases de données massives <br />\n",
    "en utilisant le calcul distribué, technique qui consiste à exploiter <br />\n",
    "plusieurs unités de calcul réparties en clusters au profit d’un seul <br />\n",
    "projet afin de diviser le temps d’exécution d’une requête.<br />\n",
    "Spark a été développé en Scala et est au meilleur de ses capacités <br />\n",
    "dans son langage natif. Cependant, la librairie PySpark propose de <br />\n",
    "l’utiliser avec le langage Python, en gardant des performances <br />\n",
    "similaires à des implémentations en Scala.<br />\n",
    "Pyspark est donc une bonne alternative à la librairie pandas lorsqu’on <br />\n",
    "cherche à traiter des jeux de données trop volumineux qui entraînent <br />\n",
    "des calculs trop chronophages.* »\n",
    "\n",
    "Comme nous le constatons, **pySpark** est un moyen de communiquer <br />\n",
    "avec **Spark** via le langage **Python**.<br />\n",
    "**Spark**, quant à lui, est un outil qui permet de gérer et de coordonner <br />\n",
    "l'exécution de tâches sur des données à travers un groupe d'ordinateurs. <br />\n",
    "<u>Spark (ou Apache Spark) est un framework open source de calcul distribué <br />\n",
    "in-memory pour le traitement et l'analyse de données massives</u>.\n",
    "\n",
    "Un autre [article très intéressant et beaucoup plus complet pour <br />\n",
    "comprendre le **fonctionnement de Spark**](https://www.veonum.com/apache-spark-pour-les-nuls/), ainsi que le rôle <br />\n",
    "des **Spark Session** que nous utiliserons dans ce projet.\n",
    "\n",
    "<u>Voici également un extrait</u>:\n",
    "\n",
    "*Les applications Spark se composent d’un pilote (« driver process ») <br />\n",
    "et de plusieurs exécuteurs (« executor processes »). Il peut être configuré <br />\n",
    "pour être lui-même l’exécuteur (local mode) ou en utiliser autant que <br />\n",
    "nécessaire pour traiter l’application, Spark prenant en charge la mise <br />\n",
    "à l’échelle automatique par une configuration d’un nombre minimum <br />\n",
    "et maximum d’exécuteurs.*\n",
    "\n",
    "![Schéma de Spark](img/spark-schema.png)\n",
    "\n",
    "*Le driver (parfois appelé « Spark Session ») distribue et planifie <br />\n",
    "les tâches entre les différents exécuteurs qui les exécutent et permettent <br />\n",
    "un traitement réparti. Il est le responsable de l’exécution du code <br />\n",
    "sur les différentes machines.\n",
    "\n",
    "Chaque exécuteur est un processus Java Virtual Machine (JVM) distinct <br />\n",
    "dont il est possible de configurer le nombre de CPU et la quantité de <br />\n",
    "mémoire qui lui est alloué. <br />\n",
    "Une seule tâche peut traiter un fractionnement de données à la fois.*\n",
    "\n",
    "Dans les deux environnements (Local et Cloud) nous utiliserons donc **Spark** <br />\n",
    "et nous l’exploiterons à travers des scripts python grâce à **PySpark**.\n",
    "\n",
    "Dans la <u>version locale</u> de notre script nous **simulerons <br />\n",
    "le calcul distribué** afin de valider que notre solution fonctionne.<br />\n",
    "Dans la <u>version cloud</u> nous **réaliserons les opérations sur un cluster de machine**."
   ]
  },
  {
   "cell_type": "markdown",
   "id": "9fda137d-390a-448a-8a44-a8821b807bb7",
   "metadata": {
    "jp-MarkdownHeadingCollapsed": true
   },
   "source": [
    "## 4.1 Transfert Learning\n",
    "\n",
    "L'énoncé du projet nous demande également de <br />\n",
    "réaliser une première chaîne de traitement <br />\n",
    "des données qui comprendra le preprocessing et <br />\n",
    "une étape de réduction de dimension.\n",
    "\n",
    "Il est également précisé qu'il n'est pas nécessaire <br />\n",
    "d'entraîner un modèle pour le moment.\n",
    "\n",
    "Nous décidons de partir sur une solution de **transfert learning**.\n",
    "\n",
    "Simplement, le **transfert learning** consiste <br />\n",
    "à utiliser la connaissance déjà acquise <br />\n",
    "par un modèle entraîné (ici **MobileNetV2**) pour <br />\n",
    "l'adapter à notre problématique.\n",
    "\n",
    "Nous allons fournir au modèle nos images, et nous allons <br />\n",
    "<u>récupérer l'avant dernière couche</u> du modèle.<br />\n",
    "En effet la dernière couche de modèle est une couche softmax <br />\n",
    "qui permet la classification des images ce que nous ne <br />\n",
    "souhaitons pas dans ce projet.\n",
    "\n",
    "L'avant dernière couche correspond à un **vecteur <br />\n",
    "réduit** de dimension (1,1,1280).\n",
    "\n",
    "Cela permettra de réaliser une première version du moteur <br />\n",
    "pour la classification des images des fruits.\n",
    "\n",
    "**MobileNetV2** a été retenu pour sa <u>rapidité d'exécution</u>, <br />\n",
    "particulièrement adaptée pour le traitement d'un gros volume <br />\n",
    "de données ainsi que la <u>faible dimensionnalité du vecteur <br />\n",
    "de caractéristique en sortie</u> (1,1,1280)"
   ]
  },
  {
   "cell_type": "markdown",
   "id": "37e6a248-85a1-4e32-9466-36e219987eaf",
   "metadata": {},
   "source": [
    "# 5. Déploiement de la solution en local\n",
    "\n",
    "\n",
    "## 5.1 Environnement de travail\n",
    "\n",
    "Pour des raisons de simplicité, nous développons dans un environnement <br />\n",
    "Linux Unbuntu (exécuté depuis une machine Windows dans une machine virtuelle)\n",
    "* Pour installer une machine virtuelle :  https://www.malekal.com/meilleurs-logiciels-de-machine-virtuelle-gratuits-ou-payants/\n",
    "\n",
    "## 5.2 Installation de Spark\n",
    "\n",
    "[La première étape consiste à installer Spark ](https://computingforgeeks.com/how-to-install-apache-spark-on-ubuntu-debian/)\n",
    "\n",
    "## 5.3 Installation des packages\n",
    "\n",
    "<u>On installe ensuite à l'aide de la commande **pip** <br />\n",
    "les packages qui nous seront nécessaires</u> :"
   ]
  },
  {
   "cell_type": "markdown",
   "id": "2516f3d4-f0bc-4f7e-bcad-b1cc1bc8f118",
   "metadata": {},
   "source": [
    "## 6. Introduction\n",
    "\n",
    "*****\n",
    "**Mission**\n",
    "*****\n",
    "**Développer dans un environnement Big Data une première chaîne de traitement des données qui comprendra le preprocessing et une étape de réduction de dimension** pour une startup Fruits! de l'AgriTech pour mettre à disposition du grand public une application mobile qui permettrait aux utilisateurs de prendre en photo un fruit et d'obtenir des informations sur ce fruit.\n",
    "\n",
    "*****\n",
    "**Contraintes**\n",
    "*****\n",
    "- Le volume de données va augmenter très rapidement après la livraison de ce projet.\n",
    "- Développer des scripts en Pyspark.\n",
    "- Utiliser le cloud AWS ou autre (Microsoft Azure sera utilisé pour ce projet) pour profiter d’une architecture Big Data. \n",
    "\n",
    "*****\n",
    "**Sources**\n",
    "*****\n",
    "- [Jeu de données](https://www.kaggle.com/moltean/fruits) : constitué des images de fruits et des labels associés, qui pourra servir de point de départ pour construire une partie de la chaîne de traitement des données.\n",
    "\n",
    "**Information sur le jeu de données :**\n",
    "***\n",
    "\n",
    "- Nombre **total d'images** : **90483**.\n",
    "- Jeu de données **train set** : **67692** images (1 fruit ou 1 légumes par image).\n",
    "- Jeu de données **test set** : **22688**  images (1 fruit ou 1 légumes par image).\n",
    "- Nombre de **classes** : 131 (fruits ou légumes).\n",
    "- **Taille** des images : 100x100 pixels.\n",
    "- **Format du nom de fichier** : \n",
    "  - **imageindex100.jpg** (par exemple 32100.jpg),\n",
    "  - ou **rimageindex100.jpg** (par exemple r32100.jpg),\n",
    "  - ou **r2imageindex100.jpg**,\n",
    "  - ou **r3imageindex100.jpg**. \n",
    "     - ou \"r\" signifie que le fruit a subi une rotation,\n",
    "     - \"r2\" signifie que le fruit a été tourné autour du 3ème axe,\n",
    "     - \"100\" vient de la taille de l'image (100x100 pixels).\n",
    "- Exemples de classe : Apples (different varieties: Crimson Snow, Golden, Golden-Red, Granny Smith, Pink Lady, Red, Red Delicious), Apricot, Avocado, Avocado ripe, Banana (Yellow, Red, Lady Finger), Beetroot Red, Blueberry, Cactus fruit, Cantaloupe (2 varieties), Carambula, Cauliflower, Cherry (different varieties, Rainier), Cherry Wax (Yellow, Red, Black), Chestnut, Clementine, Cocos, Corn (with husk), Cucumber (ripened), Dates, Eggplant, Fig, Ginger Root, Granadilla, Grape (Blue, Pink, White (different varieties)), Grapefruit (Pink, White), Guava, Hazelnut, Huckleberry, Kiwi, Kaki, Kohlrabi, Kumsquats, Lemon (normal, Meyer), Lime, Lychee, Mandarine, Mango (Green, Red), Mangostan, Maracuja, Melon Piel de Sapo, Mulberry, Nectarine (Regular, Flat), Nut (Forest, Pecan), Onion (Red, White), Orange, Papaya, Passion fruit, Peach (different varieties), Pepino, Pear (different varieties, Abate, Forelle, Kaiser, Monster, Red, Stone, Williams), Pepper (Red, Green, Orange, Yellow), Physalis (normal, with Husk), Pineapple (normal, Mini), Pitahaya Red, Plum (different varieties), Pomegranate, Pomelo Sweetie, Potato (Red, Sweet, White), Quince, Rambutan, Raspberry, Redcurrant, Salak, Strawberry (normal, Wedge), Tamarillo, Tangelo, Tomato (different varieties, Maroon, Cherry Red, Yellow, not ripened, Heart), Walnut, Watermelon."
   ]
  },
  {
   "cell_type": "markdown",
   "id": "20a7c30c-0867-4602-adc9-397af8f83028",
   "metadata": {},
   "source": [
    "### Démarrage de la session Spark"
   ]
  },
  {
   "cell_type": "code",
   "execution_count": 1,
   "id": "04738102",
   "metadata": {},
   "outputs": [
    {
     "name": "stdout",
     "output_type": "stream",
     "text": [
      "Starting Spark application\n"
     ]
    },
    {
     "data": {
      "text/html": [
       "<table>\n",
       "<tr><th>ID</th><th>YARN Application ID</th><th>Kind</th><th>State</th><th>Spark UI</th><th>Driver log</th><th>User</th><th>Current session?</th></tr><tr><td>0</td><td>application_1725884941093_0001</td><td>pyspark</td><td>idle</td><td><a target=\"_blank\" href=\"http://ip-172-31-35-232.eu-west-3.compute.internal:20888/proxy/application_1725884941093_0001/\">Link</a></td><td><a target=\"_blank\" href=\"http://ip-172-31-44-208.eu-west-3.compute.internal:8042/node/containerlogs/container_1725884941093_0001_01_000001/livy\">Link</a></td><td>None</td><td>✔</td></tr></table>"
      ],
      "text/plain": [
       "<IPython.core.display.HTML object>"
      ]
     },
     "metadata": {},
     "output_type": "display_data"
    },
    {
     "data": {
      "application/vnd.jupyter.widget-view+json": {
       "model_id": "",
       "version_major": 2,
       "version_minor": 0
      },
      "text/plain": [
       "FloatProgress(value=0.0, bar_style='info', description='Progress:', layout=Layout(height='25px', width='50%'),…"
      ]
     },
     "metadata": {},
     "output_type": "display_data"
    },
    {
     "name": "stdout",
     "output_type": "stream",
     "text": [
      "SparkSession available as 'spark'.\n"
     ]
    },
    {
     "data": {
      "application/vnd.jupyter.widget-view+json": {
       "model_id": "",
       "version_major": 2,
       "version_minor": 0
      },
      "text/plain": [
       "FloatProgress(value=0.0, bar_style='info', description='Progress:', layout=Layout(height='25px', width='50%'),…"
      ]
     },
     "metadata": {},
     "output_type": "display_data"
    }
   ],
   "source": [
    "# L'exécution de cette cellule démarre l'application Spark"
   ]
  },
  {
   "cell_type": "markdown",
   "id": "0d0382e6",
   "metadata": {},
   "source": [
    "### Affichage des informations de la Session Spark en cours"
   ]
  },
  {
   "cell_type": "code",
   "execution_count": 2,
   "id": "f02cbe36",
   "metadata": {},
   "outputs": [
    {
     "data": {
      "text/html": [
       "Current session configs: <tt>{'driverMemory': '1000M', 'executorCores': 2, 'proxyUser': 'jovyan', 'kind': 'pyspark'}</tt><br>"
      ],
      "text/plain": [
       "<IPython.core.display.HTML object>"
      ]
     },
     "metadata": {},
     "output_type": "display_data"
    },
    {
     "data": {
      "text/html": [
       "<table>\n",
       "<tr><th>ID</th><th>YARN Application ID</th><th>Kind</th><th>State</th><th>Spark UI</th><th>Driver log</th><th>User</th><th>Current session?</th></tr><tr><td>0</td><td>application_1725884941093_0001</td><td>pyspark</td><td>idle</td><td><a target=\"_blank\" href=\"http://ip-172-31-35-232.eu-west-3.compute.internal:20888/proxy/application_1725884941093_0001/\">Link</a></td><td><a target=\"_blank\" href=\"http://ip-172-31-44-208.eu-west-3.compute.internal:8042/node/containerlogs/container_1725884941093_0001_01_000001/livy\">Link</a></td><td>None</td><td>✔</td></tr></table>"
      ],
      "text/plain": [
       "<IPython.core.display.HTML object>"
      ]
     },
     "metadata": {},
     "output_type": "display_data"
    }
   ],
   "source": [
    "%%info"
   ]
  },
  {
   "cell_type": "code",
   "execution_count": 3,
   "id": "981c9b05-f8fc-441c-a116-932519ec59f6",
   "metadata": {
    "scrolled": true
   },
   "outputs": [
    {
     "data": {
      "application/vnd.jupyter.widget-view+json": {
       "model_id": "",
       "version_major": 2,
       "version_minor": 0
      },
      "text/plain": [
       "FloatProgress(value=0.0, bar_style='info', description='Progress:', layout=Layout(height='25px', width='50%'),…"
      ]
     },
     "metadata": {},
     "output_type": "display_data"
    }
   ],
   "source": [
    "import pandas as pd\n",
    "from PIL import Image\n",
    "import numpy as np\n",
    "import io\n",
    "import os\n",
    "\n",
    "import tensorflow as tf\n",
    "from tensorflow.keras.applications.mobilenet_v2 import MobileNetV2, preprocess_input\n",
    "from tensorflow.keras.preprocessing.image import img_to_array\n",
    "from tensorflow.keras import Model\n",
    "from pyspark.sql.functions import col, pandas_udf, PandasUDFType, element_at, split, udf\n",
    "from pyspark.sql import SparkSession\n",
    "from pyspark.sql.functions import split, element_at\n",
    "from pyspark.ml.feature import PCA, StandardScaler\n",
    "from pyspark.ml.linalg import Vectors, VectorUDT"
   ]
  },
  {
   "cell_type": "markdown",
   "id": "fe342b5b-80f6-49c8-ae15-5664e347a9db",
   "metadata": {},
   "source": [
    "## 6.1 Définition des PATH pour charger les images <br /> et enregistrer les résultats\n",
    "\n",
    "Dans cette version locale nous partons du principe que les données <br />\n",
    "sont stockées dans le même répertoire que le notebook.<br />\n",
    "Nous n'utilisons qu'un extrait de **300 images** à traiter dans cette <br />\n",
    "première version en local.<br />\n",
    "L'extrait des images à charger est stockée dans le dossier **Test**.<br />\n",
    "Nous enregistrerons le résultat de notre traitement <br />\n",
    "dans le dossier \"**Validation**\""
   ]
  },
  {
   "cell_type": "code",
   "execution_count": 4,
   "id": "79834e77-9630-48dd-af28-67fea5c6bf96",
   "metadata": {},
   "outputs": [
    {
     "data": {
      "application/vnd.jupyter.widget-view+json": {
       "model_id": "",
       "version_major": 2,
       "version_minor": 0
      },
      "text/plain": [
       "FloatProgress(value=0.0, bar_style='info', description='Progress:', layout=Layout(height='25px', width='50%'),…"
      ]
     },
     "metadata": {},
     "output_type": "display_data"
    },
    {
     "name": "stdout",
     "output_type": "stream",
     "text": [
      "PATH:        s3://p08-projet-data\n",
      "PATH_Data:   s3://p08-projet-data/Test\n",
      "PATH_Result: s3://p08-projet-data/Validation"
     ]
    }
   ],
   "source": [
    "PATH = 's3://p08-projet-data'\n",
    "PATH_Data =  PATH+\"/Test\"\n",
    "PATH_Result =  PATH+\"/Validation\"\n",
    "print('PATH:        '+\\\n",
    "      PATH+'\\nPATH_Data:   '+\\\n",
    "      PATH_Data+'\\nPATH_Result: '+PATH_Result)"
   ]
  },
  {
   "cell_type": "markdown",
   "id": "9ff91577-d9bd-497c-99d8-a0749a79b249",
   "metadata": {},
   "source": [
    "## Traitement des données"
   ]
  },
  {
   "cell_type": "markdown",
   "id": "33d78b02-98cb-451a-b067-07edaf105863",
   "metadata": {},
   "source": [
    "#### Lecture en format .jpg, et chargement des images en dataframe Spark (traitement distribué)."
   ]
  },
  {
   "cell_type": "code",
   "execution_count": 5,
   "id": "49f42fb0-9522-4a69-abc4-f23847ca4640",
   "metadata": {},
   "outputs": [
    {
     "data": {
      "application/vnd.jupyter.widget-view+json": {
       "model_id": "",
       "version_major": 2,
       "version_minor": 0
      },
      "text/plain": [
       "FloatProgress(value=0.0, bar_style='info', description='Progress:', layout=Layout(height='25px', width='50%'),…"
      ]
     },
     "metadata": {},
     "output_type": "display_data"
    }
   ],
   "source": [
    "images = spark.read.format(\"binaryFile\") \\\n",
    "  .option(\"pathGlobFilter\", \"*.jpg\") \\\n",
    "  .option(\"recursiveFileLookup\", \"true\") \\\n",
    "  .load(PATH_Data)"
   ]
  },
  {
   "cell_type": "markdown",
   "id": "99088968-5474-4b5c-bce8-d807b5cdf61f",
   "metadata": {},
   "source": [
    "#### Extraction, et ajout des noms de fruits dans la colonne label."
   ]
  },
  {
   "cell_type": "code",
   "execution_count": 6,
   "id": "c070da90-4b72-45b6-9126-6b9336e2bbb4",
   "metadata": {},
   "outputs": [
    {
     "data": {
      "application/vnd.jupyter.widget-view+json": {
       "model_id": "",
       "version_major": 2,
       "version_minor": 0
      },
      "text/plain": [
       "FloatProgress(value=0.0, bar_style='info', description='Progress:', layout=Layout(height='25px', width='50%'),…"
      ]
     },
     "metadata": {},
     "output_type": "display_data"
    },
    {
     "name": "stdout",
     "output_type": "stream",
     "text": [
      "root\n",
      " |-- path: string (nullable = true)\n",
      " |-- modificationTime: timestamp (nullable = true)\n",
      " |-- length: long (nullable = true)\n",
      " |-- content: binary (nullable = true)\n",
      " |-- label: string (nullable = true)\n",
      "\n",
      "None\n",
      "+------------------------------------------------+-----------+\n",
      "|path                                            |label      |\n",
      "+------------------------------------------------+-----------+\n",
      "|s3://p08-projet-data/Test/apple_hit_1/r0_115.jpg|apple_hit_1|\n",
      "|s3://p08-projet-data/Test/apple_hit_1/r0_119.jpg|apple_hit_1|\n",
      "|s3://p08-projet-data/Test/apple_hit_1/r0_107.jpg|apple_hit_1|\n",
      "|s3://p08-projet-data/Test/apple_hit_1/r0_143.jpg|apple_hit_1|\n",
      "|s3://p08-projet-data/Test/apple_hit_1/r0_111.jpg|apple_hit_1|\n",
      "|s3://p08-projet-data/Test/apple_hit_1/r0_127.jpg|apple_hit_1|\n",
      "|s3://p08-projet-data/Test/apple_hit_1/r0_139.jpg|apple_hit_1|\n",
      "|s3://p08-projet-data/Test/apple_hit_1/r0_123.jpg|apple_hit_1|\n",
      "|s3://p08-projet-data/Test/apple_hit_1/r0_151.jpg|apple_hit_1|\n",
      "|s3://p08-projet-data/Test/apple_hit_1/r0_103.jpg|apple_hit_1|\n",
      "|s3://p08-projet-data/Test/apple_hit_1/r0_155.jpg|apple_hit_1|\n",
      "|s3://p08-projet-data/Test/apple_hit_1/r0_147.jpg|apple_hit_1|\n",
      "|s3://p08-projet-data/Test/apple_hit_1/r0_95.jpg |apple_hit_1|\n",
      "|s3://p08-projet-data/Test/apple_hit_1/r0_99.jpg |apple_hit_1|\n",
      "|s3://p08-projet-data/Test/apple_hit_1/r1_299.jpg|apple_hit_1|\n",
      "|s3://p08-projet-data/Test/apple_hit_1/r0_131.jpg|apple_hit_1|\n",
      "|s3://p08-projet-data/Test/apple_hit_1/r1_7.jpg  |apple_hit_1|\n",
      "|s3://p08-projet-data/Test/apple_hit_1/r1_303.jpg|apple_hit_1|\n",
      "|s3://p08-projet-data/Test/apple_hit_1/r0_135.jpg|apple_hit_1|\n",
      "|s3://p08-projet-data/Test/apple_hit_1/r1_307.jpg|apple_hit_1|\n",
      "|s3://p08-projet-data/Test/apple_hit_1/r1_11.jpg |apple_hit_1|\n",
      "|s3://p08-projet-data/Test/apple_hit_1/r0_91.jpg |apple_hit_1|\n",
      "|s3://p08-projet-data/Test/apple_hit_1/r1_295.jpg|apple_hit_1|\n",
      "|s3://p08-projet-data/Test/apple_hit_1/r1_3.jpg  |apple_hit_1|\n",
      "|s3://p08-projet-data/Test/apple_hit_1/r0_163.jpg|apple_hit_1|\n",
      "|s3://p08-projet-data/Test/apple_hit_1/r0_159.jpg|apple_hit_1|\n",
      "|s3://p08-projet-data/Test/apple_hit_1/r0_167.jpg|apple_hit_1|\n",
      "|s3://p08-projet-data/Test/apple_hit_1/r1_291.jpg|apple_hit_1|\n",
      "|s3://p08-projet-data/Test/apple_hit_1/r1_287.jpg|apple_hit_1|\n",
      "|s3://p08-projet-data/Test/apple_hit_1/r1_19.jpg |apple_hit_1|\n",
      "+------------------------------------------------+-----------+\n",
      "only showing top 30 rows\n",
      "\n",
      "None"
     ]
    }
   ],
   "source": [
    "images = images.withColumn('label', element_at(split(images['path'], '/'),-2))\n",
    "print(images.printSchema())\n",
    "print(images.select('path','label').show(30,False))"
   ]
  },
  {
   "cell_type": "code",
   "execution_count": 7,
   "id": "e04850d1",
   "metadata": {},
   "outputs": [
    {
     "data": {
      "application/vnd.jupyter.widget-view+json": {
       "model_id": "",
       "version_major": 2,
       "version_minor": 0
      },
      "text/plain": [
       "FloatProgress(value=0.0, bar_style='info', description='Progress:', layout=Layout(height='25px', width='50%'),…"
      ]
     },
     "metadata": {},
     "output_type": "display_data"
    },
    {
     "name": "stdout",
     "output_type": "stream",
     "text": [
      "+--------------------+-------------------+------+--------------------+-----------+\n",
      "|                path|   modificationTime|length|             content|      label|\n",
      "+--------------------+-------------------+------+--------------------+-----------+\n",
      "|s3://p08-projet-d...|2024-08-09 16:55:30|125135|[FF D8 FF E0 00 1...|apple_hit_1|\n",
      "|s3://p08-projet-d...|2024-08-09 16:55:31|124785|[FF D8 FF E0 00 1...|apple_hit_1|\n",
      "|s3://p08-projet-d...|2024-08-09 16:55:27|123514|[FF D8 FF E0 00 1...|apple_hit_1|\n",
      "|s3://p08-projet-d...|2024-08-09 16:55:36|122958|[FF D8 FF E0 00 1...|apple_hit_1|\n",
      "|s3://p08-projet-d...|2024-08-09 16:55:29|122807|[FF D8 FF E0 00 1...|apple_hit_1|\n",
      "+--------------------+-------------------+------+--------------------+-----------+\n",
      "only showing top 5 rows"
     ]
    }
   ],
   "source": [
    "images.show(5)"
   ]
  },
  {
   "cell_type": "code",
   "execution_count": 8,
   "id": "20e32cee",
   "metadata": {},
   "outputs": [
    {
     "data": {
      "application/vnd.jupyter.widget-view+json": {
       "model_id": "",
       "version_major": 2,
       "version_minor": 0
      },
      "text/plain": [
       "FloatProgress(value=0.0, bar_style='info', description='Progress:', layout=Layout(height='25px', width='50%'),…"
      ]
     },
     "metadata": {},
     "output_type": "display_data"
    },
    {
     "name": "stdout",
     "output_type": "stream",
     "text": [
      "root\n",
      " |-- path: string (nullable = true)\n",
      " |-- modificationTime: timestamp (nullable = true)\n",
      " |-- length: long (nullable = true)\n",
      " |-- content: binary (nullable = true)\n",
      " |-- label: string (nullable = true)\n",
      "\n",
      "None\n",
      "+------------------------------------------------+-----------+\n",
      "|path                                            |label      |\n",
      "+------------------------------------------------+-----------+\n",
      "|s3://p08-projet-data/Test/apple_hit_1/r0_115.jpg|apple_hit_1|\n",
      "|s3://p08-projet-data/Test/apple_hit_1/r0_119.jpg|apple_hit_1|\n",
      "|s3://p08-projet-data/Test/apple_hit_1/r0_107.jpg|apple_hit_1|\n",
      "|s3://p08-projet-data/Test/apple_hit_1/r0_143.jpg|apple_hit_1|\n",
      "|s3://p08-projet-data/Test/apple_hit_1/r0_111.jpg|apple_hit_1|\n",
      "+------------------------------------------------+-----------+\n",
      "only showing top 5 rows\n",
      "\n",
      "None"
     ]
    }
   ],
   "source": [
    "images = images.withColumn('label', element_at(split(images['path'], '/'),-2))\n",
    "print(images.printSchema())\n",
    "print(images.select('path','label').show(5,False))"
   ]
  },
  {
   "cell_type": "markdown",
   "id": "8a2f0e61-b702-44fc-b51a-f45d73d493a4",
   "metadata": {},
   "source": [
    "## Instanciation du modèle"
   ]
  },
  {
   "cell_type": "code",
   "execution_count": 9,
   "id": "3ab714ea-3a5f-4918-a999-d47ded12b8ef",
   "metadata": {},
   "outputs": [
    {
     "data": {
      "application/vnd.jupyter.widget-view+json": {
       "model_id": "",
       "version_major": 2,
       "version_minor": 0
      },
      "text/plain": [
       "FloatProgress(value=0.0, bar_style='info', description='Progress:', layout=Layout(height='25px', width='50%'),…"
      ]
     },
     "metadata": {},
     "output_type": "display_data"
    },
    {
     "name": "stdout",
     "output_type": "stream",
     "text": [
      "Downloading data from https://storage.googleapis.com/tensorflow/keras-applications/mobilenet_v2/mobilenet_v2_weights_tf_dim_ordering_tf_kernels_1.0_224.h5\n",
      "\r",
      "    8192/14536120 [..............................] - ETA: 0s\b\b\b\b\b\b\b\b\b\b\b\b\b\b\b\b\b\b\b\b\b\b\b\b\b\b\b\b\b\b\b\b\b\b\b\b\b\b\b\b\b\b\b\b\b\b\b\b\b\b\b\b\b\b\b\b\b\b\b\b\r",
      "   16384/14536120 [..............................] - ETA: 1:01\b\b\b\b\b\b\b\b\b\b\b\b\b\b\b\b\b\b\b\b\b\b\b\b\b\b\b\b\b\b\b\b\b\b\b\b\b\b\b\b\b\b\b\b\b\b\b\b\b\b\b\b\b\b\b\b\b\b\b\b\b\b\r",
      "   49152/14536120 [..............................] - ETA: 47s \b\b\b\b\b\b\b\b\b\b\b\b\b\b\b\b\b\b\b\b\b\b\b\b\b\b\b\b\b\b\b\b\b\b\b\b\b\b\b\b\b\b\b\b\b\b\b\b\b\b\b\b\b\b\b\b\b\b\b\b\b\r",
      "   81920/14536120 [..............................] - ETA: 44s\b\b\b\b\b\b\b\b\b\b\b\b\b\b\b\b\b\b\b\b\b\b\b\b\b\b\b\b\b\b\b\b\b\b\b\b\b\b\b\b\b\b\b\b\b\b\b\b\b\b\b\b\b\b\b\b\b\b\b\b\b\r",
      "  147456/14536120 [..............................] - ETA: 31s\b\b\b\b\b\b\b\b\b\b\b\b\b\b\b\b\b\b\b\b\b\b\b\b\b\b\b\b\b\b\b\b\b\b\b\b\b\b\b\b\b\b\b\b\b\b\b\b\b\b\b\b\b\b\b\b\b\b\b\b\b\r",
      "  212992/14536120 [..............................] - ETA: 25s\b\b\b\b\b\b\b\b\b\b\b\b\b\b\b\b\b\b\b\b\b\b\b\b\b\b\b\b\b\b\b\b\b\b\b\b\b\b\b\b\b\b\b\b\b\b\b\b\b\b\b\b\b\b\b\b\b\b\b\b\b\r",
      "  327680/14536120 [..............................] - ETA: 18s\b\b\b\b\b\b\b\b\b\b\b\b\b\b\b\b\b\b\b\b\b\b\b\b\b\b\b\b\b\b\b\b\b\b\b\b\b\b\b\b\b\b\b\b\b\b\b\b\b\b\b\b\b\b\b\b\b\b\b\b\b\r",
      "  475136/14536120 [..............................] - ETA: 14s\b\b\b\b\b\b\b\b\b\b\b\b\b\b\b\b\b\b\b\b\b\b\b\b\b\b\b\b\b\b\b\b\b\b\b\b\b\b\b\b\b\b\b\b\b\b\b\b\b\b\b\b\b\b\b\b\b\b\b\b\b\r",
      "  737280/14536120 [>.............................] - ETA: 10s\b\b\b\b\b\b\b\b\b\b\b\b\b\b\b\b\b\b\b\b\b\b\b\b\b\b\b\b\b\b\b\b\b\b\b\b\b\b\b\b\b\b\b\b\b\b\b\b\b\b\b\b\b\b\b\b\b\b\b\b\b\r",
      " 1097728/14536120 [=>............................] - ETA: 7s \b\b\b\b\b\b\b\b\b\b\b\b\b\b\b\b\b\b\b\b\b\b\b\b\b\b\b\b\b\b\b\b\b\b\b\b\b\b\b\b\b\b\b\b\b\b\b\b\b\b\b\b\b\b\b\b\b\b\b\b\r",
      " 1671168/14536120 [==>...........................] - ETA: 4s\b\b\b\b\b\b\b\b\b\b\b\b\b\b\b\b\b\b\b\b\b\b\b\b\b\b\b\b\b\b\b\b\b\b\b\b\b\b\b\b\b\b\b\b\b\b\b\b\b\b\b\b\b\b\b\b\b\b\b\b\r",
      " 2564096/14536120 [====>.........................] - ETA: 3s\b\b\b\b\b\b\b\b\b\b\b\b\b\b\b\b\b\b\b\b\b\b\b\b\b\b\b\b\b\b\b\b\b\b\b\b\b\b\b\b\b\b\b\b\b\b\b\b\b\b\b\b\b\b\b\b\b\b\b\b\r",
      " 3940352/14536120 [=======>......................] - ETA: 1s\b\b\b\b\b\b\b\b\b\b\b\b\b\b\b\b\b\b\b\b\b\b\b\b\b\b\b\b\b\b\b\b\b\b\b\b\b\b\b\b\b\b\b\b\b\b\b\b\b\b\b\b\b\b\b\b\b\b\b\b\r",
      " 5734400/14536120 [==========>...................] - ETA: 1s\b\b\b\b\b\b\b\b\b\b\b\b\b\b\b\b\b\b\b\b\b\b\b\b\b\b\b\b\b\b\b\b\b\b\b\b\b\b\b\b\b\b\b\b\b\b\b\b\b\b\b\b\b\b\b\b\b\b\b\b\r",
      " 8626176/14536120 [================>.............] - ETA: 0s\b\b\b\b\b\b\b\b\b\b\b\b\b\b\b\b\b\b\b\b\b\b\b\b\b\b\b\b\b\b\b\b\b\b\b\b\b\b\b\b\b\b\b\b\b\b\b\b\b\b\b\b\b\b\b\b\b\b\b\b\r",
      "11190272/14536120 [======================>.......] - ETA: 0s\b\b\b\b\b\b\b\b\b\b\b\b\b\b\b\b\b\b\b\b\b\b\b\b\b\b\b\b\b\b\b\b\b\b\b\b\b\b\b\b\b\b\b\b\b\b\b\b\b\b\b\b\b\b\b\b\b\b\b\b\r",
      "13590528/14536120 [===========================>..] - ETA: 0s\b\b\b\b\b\b\b\b\b\b\b\b\b\b\b\b\b\b\b\b\b\b\b\b\b\b\b\b\b\b\b\b\b\b\b\b\b\b\b\b\b\b\b\b\b\b\b\b\b\b\b\b\b\b\b\b\b\b\b\b\r",
      "14536120/14536120 [==============================] - 1s 0us/step"
     ]
    }
   ],
   "source": [
    "model = MobileNetV2(weights='imagenet',\n",
    "                    include_top=True,\n",
    "                    input_shape=(224, 224, 3))"
   ]
  },
  {
   "cell_type": "code",
   "execution_count": 10,
   "id": "425e761c-442a-486f-8b8f-d9c2fffacd30",
   "metadata": {},
   "outputs": [
    {
     "data": {
      "application/vnd.jupyter.widget-view+json": {
       "model_id": "",
       "version_major": 2,
       "version_minor": 0
      },
      "text/plain": [
       "FloatProgress(value=0.0, bar_style='info', description='Progress:', layout=Layout(height='25px', width='50%'),…"
      ]
     },
     "metadata": {},
     "output_type": "display_data"
    }
   ],
   "source": [
    "new_model = Model(inputs=model.input,\n",
    "                  outputs=model.layers[-2].output)"
   ]
  },
  {
   "cell_type": "code",
   "execution_count": 11,
   "id": "55c6143d-6dd8-40ae-8901-5bb64e2c1251",
   "metadata": {
    "scrolled": true
   },
   "outputs": [
    {
     "data": {
      "application/vnd.jupyter.widget-view+json": {
       "model_id": "",
       "version_major": 2,
       "version_minor": 0
      },
      "text/plain": [
       "FloatProgress(value=0.0, bar_style='info', description='Progress:', layout=Layout(height='25px', width='50%'),…"
      ]
     },
     "metadata": {},
     "output_type": "display_data"
    },
    {
     "name": "stdout",
     "output_type": "stream",
     "text": [
      "Model: \"model\"\n",
      "__________________________________________________________________________________________________\n",
      " Layer (type)                   Output Shape         Param #     Connected to                     \n",
      "==================================================================================================\n",
      " input_1 (InputLayer)           [(None, 224, 224, 3  0           []                               \n",
      "                                )]                                                                \n",
      "                                                                                                  \n",
      " Conv1 (Conv2D)                 (None, 112, 112, 32  864         ['input_1[0][0]']                \n",
      "                                )                                                                 \n",
      "                                                                                                  \n",
      " bn_Conv1 (BatchNormalization)  (None, 112, 112, 32  128         ['Conv1[0][0]']                  \n",
      "                                )                                                                 \n",
      "                                                                                                  \n",
      " Conv1_relu (ReLU)              (None, 112, 112, 32  0           ['bn_Conv1[0][0]']               \n",
      "                                )                                                                 \n",
      "                                                                                                  \n",
      " expanded_conv_depthwise (Depth  (None, 112, 112, 32  288        ['Conv1_relu[0][0]']             \n",
      " wiseConv2D)                    )                                                                 \n",
      "                                                                                                  \n",
      " expanded_conv_depthwise_BN (Ba  (None, 112, 112, 32  128        ['expanded_conv_depthwise[0][0]']\n",
      " tchNormalization)              )                                                                 \n",
      "                                                                                                  \n",
      " expanded_conv_depthwise_relu (  (None, 112, 112, 32  0          ['expanded_conv_depthwise_BN[0][0\n",
      " ReLU)                          )                                ]']                              \n",
      "                                                                                                  \n",
      " expanded_conv_project (Conv2D)  (None, 112, 112, 16  512        ['expanded_conv_depthwise_relu[0]\n",
      "                                )                                [0]']                            \n",
      "                                                                                                  \n",
      " expanded_conv_project_BN (Batc  (None, 112, 112, 16  64         ['expanded_conv_project[0][0]']  \n",
      " hNormalization)                )                                                                 \n",
      "                                                                                                  \n",
      " block_1_expand (Conv2D)        (None, 112, 112, 96  1536        ['expanded_conv_project_BN[0][0]'\n",
      "                                )                                ]                                \n",
      "                                                                                                  \n",
      " block_1_expand_BN (BatchNormal  (None, 112, 112, 96  384        ['block_1_expand[0][0]']         \n",
      " ization)                       )                                                                 \n",
      "                                                                                                  \n",
      " block_1_expand_relu (ReLU)     (None, 112, 112, 96  0           ['block_1_expand_BN[0][0]']      \n",
      "                                )                                                                 \n",
      "                                                                                                  \n",
      " block_1_pad (ZeroPadding2D)    (None, 113, 113, 96  0           ['block_1_expand_relu[0][0]']    \n",
      "                                )                                                                 \n",
      "                                                                                                  \n",
      " block_1_depthwise (DepthwiseCo  (None, 56, 56, 96)  864         ['block_1_pad[0][0]']            \n",
      " nv2D)                                                                                            \n",
      "                                                                                                  \n",
      " block_1_depthwise_BN (BatchNor  (None, 56, 56, 96)  384         ['block_1_depthwise[0][0]']      \n",
      " malization)                                                                                      \n",
      "                                                                                                  \n",
      " block_1_depthwise_relu (ReLU)  (None, 56, 56, 96)   0           ['block_1_depthwise_BN[0][0]']   \n",
      "                                                                                                  \n",
      " block_1_project (Conv2D)       (None, 56, 56, 24)   2304        ['block_1_depthwise_relu[0][0]'] \n",
      "                                                                                                  \n",
      " block_1_project_BN (BatchNorma  (None, 56, 56, 24)  96          ['block_1_project[0][0]']        \n",
      " lization)                                                                                        \n",
      "                                                                                                  \n",
      " block_2_expand (Conv2D)        (None, 56, 56, 144)  3456        ['block_1_project_BN[0][0]']     \n",
      "                                                                                                  \n",
      " block_2_expand_BN (BatchNormal  (None, 56, 56, 144)  576        ['block_2_expand[0][0]']         \n",
      " ization)                                                                                         \n",
      "                                                                                                  \n",
      " block_2_expand_relu (ReLU)     (None, 56, 56, 144)  0           ['block_2_expand_BN[0][0]']      \n",
      "                                                                                                  \n",
      " block_2_depthwise (DepthwiseCo  (None, 56, 56, 144)  1296       ['block_2_expand_relu[0][0]']    \n",
      " nv2D)                                                                                            \n",
      "                                                                                                  \n",
      " block_2_depthwise_BN (BatchNor  (None, 56, 56, 144)  576        ['block_2_depthwise[0][0]']      \n",
      " malization)                                                                                      \n",
      "                                                                                                  \n",
      " block_2_depthwise_relu (ReLU)  (None, 56, 56, 144)  0           ['block_2_depthwise_BN[0][0]']   \n",
      "                                                                                                  \n",
      " block_2_project (Conv2D)       (None, 56, 56, 24)   3456        ['block_2_depthwise_relu[0][0]'] \n",
      "                                                                                                  \n",
      " block_2_project_BN (BatchNorma  (None, 56, 56, 24)  96          ['block_2_project[0][0]']        \n",
      " lization)                                                                                        \n",
      "                                                                                                  \n",
      " block_2_add (Add)              (None, 56, 56, 24)   0           ['block_1_project_BN[0][0]',     \n",
      "                                                                  'block_2_project_BN[0][0]']     \n",
      "                                                                                                  \n",
      " block_3_expand (Conv2D)        (None, 56, 56, 144)  3456        ['block_2_add[0][0]']            \n",
      "                                                                                                  \n",
      " block_3_expand_BN (BatchNormal  (None, 56, 56, 144)  576        ['block_3_expand[0][0]']         \n",
      " ization)                                                                                         \n",
      "                                                                                                  \n",
      " block_3_expand_relu (ReLU)     (None, 56, 56, 144)  0           ['block_3_expand_BN[0][0]']      \n",
      "                                                                                                  \n",
      " block_3_pad (ZeroPadding2D)    (None, 57, 57, 144)  0           ['block_3_expand_relu[0][0]']    \n",
      "                                                                                                  \n",
      " block_3_depthwise (DepthwiseCo  (None, 28, 28, 144)  1296       ['block_3_pad[0][0]']            \n",
      " nv2D)                                                                                            \n",
      "                                                                                                  \n",
      " block_3_depthwise_BN (BatchNor  (None, 28, 28, 144)  576        ['block_3_depthwise[0][0]']      \n",
      " malization)                                                                                      \n",
      "                                                                                                  \n",
      " block_3_depthwise_relu (ReLU)  (None, 28, 28, 144)  0           ['block_3_depthwise_BN[0][0]']   \n",
      "                                                                                                  \n",
      " block_3_project (Conv2D)       (None, 28, 28, 32)   4608        ['block_3_depthwise_relu[0][0]'] \n",
      "                                                                                                  \n",
      " block_3_project_BN (BatchNorma  (None, 28, 28, 32)  128         ['block_3_project[0][0]']        \n",
      " lization)                                                                                        \n",
      "                                                                                                  \n",
      " block_4_expand (Conv2D)        (None, 28, 28, 192)  6144        ['block_3_project_BN[0][0]']     \n",
      "                                                                                                  \n",
      " block_4_expand_BN (BatchNormal  (None, 28, 28, 192)  768        ['block_4_expand[0][0]']         \n",
      " ization)                                                                                         \n",
      "                                                                                                  \n",
      " block_4_expand_relu (ReLU)     (None, 28, 28, 192)  0           ['block_4_expand_BN[0][0]']      \n",
      "                                                                                                  \n",
      " block_4_depthwise (DepthwiseCo  (None, 28, 28, 192)  1728       ['block_4_expand_relu[0][0]']    \n",
      " nv2D)                                                                                            \n",
      "                                                                                                  \n",
      " block_4_depthwise_BN (BatchNor  (None, 28, 28, 192)  768        ['block_4_depthwise[0][0]']      \n",
      " malization)                                                                                      \n",
      "                                                                                                  \n",
      " block_4_depthwise_relu (ReLU)  (None, 28, 28, 192)  0           ['block_4_depthwise_BN[0][0]']   \n",
      "                                                                                                  \n",
      " block_4_project (Conv2D)       (None, 28, 28, 32)   6144        ['block_4_depthwise_relu[0][0]'] \n",
      "                                                                                                  \n",
      " block_4_project_BN (BatchNorma  (None, 28, 28, 32)  128         ['block_4_project[0][0]']        \n",
      " lization)                                                                                        \n",
      "                                                                                                  \n",
      " block_4_add (Add)              (None, 28, 28, 32)   0           ['block_3_project_BN[0][0]',     \n",
      "                                                                  'block_4_project_BN[0][0]']     \n",
      "                                                                                                  \n",
      " block_5_expand (Conv2D)        (None, 28, 28, 192)  6144        ['block_4_add[0][0]']            \n",
      "                                                                                                  \n",
      " block_5_expand_BN (BatchNormal  (None, 28, 28, 192)  768        ['block_5_expand[0][0]']         \n",
      " ization)                                                                                         \n",
      "                                                                                                  \n",
      " block_5_expand_relu (ReLU)     (None, 28, 28, 192)  0           ['block_5_expand_BN[0][0]']      \n",
      "                                                                                                  \n",
      " block_5_depthwise (DepthwiseCo  (None, 28, 28, 192)  1728       ['block_5_expand_relu[0][0]']    \n",
      " nv2D)                                                                                            \n",
      "                                                                                                  \n",
      " block_5_depthwise_BN (BatchNor  (None, 28, 28, 192)  768        ['block_5_depthwise[0][0]']      \n",
      " malization)                                                                                      \n",
      "                                                                                                  \n",
      " block_5_depthwise_relu (ReLU)  (None, 28, 28, 192)  0           ['block_5_depthwise_BN[0][0]']   \n",
      "                                                                                                  \n",
      " block_5_project (Conv2D)       (None, 28, 28, 32)   6144        ['block_5_depthwise_relu[0][0]'] \n",
      "                                                                                                  \n",
      " block_5_project_BN (BatchNorma  (None, 28, 28, 32)  128         ['block_5_project[0][0]']        \n",
      " lization)                                                                                        \n",
      "                                                                                                  \n",
      " block_5_add (Add)              (None, 28, 28, 32)   0           ['block_4_add[0][0]',            \n",
      "                                                                  'block_5_project_BN[0][0]']     \n",
      "                                                                                                  \n",
      " block_6_expand (Conv2D)        (None, 28, 28, 192)  6144        ['block_5_add[0][0]']            \n",
      "                                                                                                  \n",
      " block_6_expand_BN (BatchNormal  (None, 28, 28, 192)  768        ['block_6_expand[0][0]']         \n",
      " ization)                                                                                         \n",
      "                                                                                                  \n",
      " block_6_expand_relu (ReLU)     (None, 28, 28, 192)  0           ['block_6_expand_BN[0][0]']      \n",
      "                                                                                                  \n",
      " block_6_pad (ZeroPadding2D)    (None, 29, 29, 192)  0           ['block_6_expand_relu[0][0]']    \n",
      "                                                                                                  \n",
      " block_6_depthwise (DepthwiseCo  (None, 14, 14, 192)  1728       ['block_6_pad[0][0]']            \n",
      " nv2D)                                                                                            \n",
      "                                                                                                  \n",
      " block_6_depthwise_BN (BatchNor  (None, 14, 14, 192)  768        ['block_6_depthwise[0][0]']      \n",
      " malization)                                                                                      \n",
      "                                                                                                  \n",
      " block_6_depthwise_relu (ReLU)  (None, 14, 14, 192)  0           ['block_6_depthwise_BN[0][0]']   \n",
      "                                                                                                  \n",
      " block_6_project (Conv2D)       (None, 14, 14, 64)   12288       ['block_6_depthwise_relu[0][0]'] \n",
      "                                                                                                  \n",
      " block_6_project_BN (BatchNorma  (None, 14, 14, 64)  256         ['block_6_project[0][0]']        \n",
      " lization)                                                                                        \n",
      "                                                                                                  \n",
      " block_7_expand (Conv2D)        (None, 14, 14, 384)  24576       ['block_6_project_BN[0][0]']     \n",
      "                                                                                                  \n",
      " block_7_expand_BN (BatchNormal  (None, 14, 14, 384)  1536       ['block_7_expand[0][0]']         \n",
      " ization)                                                                                         \n",
      "                                                                                                  \n",
      " block_7_expand_relu (ReLU)     (None, 14, 14, 384)  0           ['block_7_expand_BN[0][0]']      \n",
      "                                                                                                  \n",
      " block_7_depthwise (DepthwiseCo  (None, 14, 14, 384)  3456       ['block_7_expand_relu[0][0]']    \n",
      " nv2D)                                                                                            \n",
      "                                                                                                  \n",
      " block_7_depthwise_BN (BatchNor  (None, 14, 14, 384)  1536       ['block_7_depthwise[0][0]']      \n",
      " malization)                                                                                      \n",
      "                                                                                                  \n",
      " block_7_depthwise_relu (ReLU)  (None, 14, 14, 384)  0           ['block_7_depthwise_BN[0][0]']   \n",
      "                                                                                                  \n",
      " block_7_project (Conv2D)       (None, 14, 14, 64)   24576       ['block_7_depthwise_relu[0][0]'] \n",
      "                                                                                                  \n",
      " block_7_project_BN (BatchNorma  (None, 14, 14, 64)  256         ['block_7_project[0][0]']        \n",
      " lization)                                                                                        \n",
      "                                                                                                  \n",
      " block_7_add (Add)              (None, 14, 14, 64)   0           ['block_6_project_BN[0][0]',     \n",
      "                                                                  'block_7_project_BN[0][0]']     \n",
      "                                                                                                  \n",
      " block_8_expand (Conv2D)        (None, 14, 14, 384)  24576       ['block_7_add[0][0]']            \n",
      "                                                                                                  \n",
      " block_8_expand_BN (BatchNormal  (None, 14, 14, 384)  1536       ['block_8_expand[0][0]']         \n",
      " ization)                                                                                         \n",
      "                                                                                                  \n",
      " block_8_expand_relu (ReLU)     (None, 14, 14, 384)  0           ['block_8_expand_BN[0][0]']      \n",
      "                                                                                                  \n",
      " block_8_depthwise (DepthwiseCo  (None, 14, 14, 384)  3456       ['block_8_expand_relu[0][0]']    \n",
      " nv2D)                                                                                            \n",
      "                                                                                                  \n",
      " block_8_depthwise_BN (BatchNor  (None, 14, 14, 384)  1536       ['block_8_depthwise[0][0]']      \n",
      " malization)                                                                                      \n",
      "                                                                                                  \n",
      " block_8_depthwise_relu (ReLU)  (None, 14, 14, 384)  0           ['block_8_depthwise_BN[0][0]']   \n",
      "                                                                                                  \n",
      " block_8_project (Conv2D)       (None, 14, 14, 64)   24576       ['block_8_depthwise_relu[0][0]'] \n",
      "                                                                                                  \n",
      " block_8_project_BN (BatchNorma  (None, 14, 14, 64)  256         ['block_8_project[0][0]']        \n",
      " lization)                                                                                        \n",
      "                                                                                                  \n",
      " block_8_add (Add)              (None, 14, 14, 64)   0           ['block_7_add[0][0]',            \n",
      "                                                                  'block_8_project_BN[0][0]']     \n",
      "                                                                                                  \n",
      " block_9_expand (Conv2D)        (None, 14, 14, 384)  24576       ['block_8_add[0][0]']            \n",
      "                                                                                                  \n",
      " block_9_expand_BN (BatchNormal  (None, 14, 14, 384)  1536       ['block_9_expand[0][0]']         \n",
      " ization)                                                                                         \n",
      "                                                                                                  \n",
      " block_9_expand_relu (ReLU)     (None, 14, 14, 384)  0           ['block_9_expand_BN[0][0]']      \n",
      "                                                                                                  \n",
      " block_9_depthwise (DepthwiseCo  (None, 14, 14, 384)  3456       ['block_9_expand_relu[0][0]']    \n",
      " nv2D)                                                                                            \n",
      "                                                                                                  \n",
      " block_9_depthwise_BN (BatchNor  (None, 14, 14, 384)  1536       ['block_9_depthwise[0][0]']      \n",
      " malization)                                                                                      \n",
      "                                                                                                  \n",
      " block_9_depthwise_relu (ReLU)  (None, 14, 14, 384)  0           ['block_9_depthwise_BN[0][0]']   \n",
      "                                                                                                  \n",
      " block_9_project (Conv2D)       (None, 14, 14, 64)   24576       ['block_9_depthwise_relu[0][0]'] \n",
      "                                                                                                  \n",
      " block_9_project_BN (BatchNorma  (None, 14, 14, 64)  256         ['block_9_project[0][0]']        \n",
      " lization)                                                                                        \n",
      "                                                                                                  \n",
      " block_9_add (Add)              (None, 14, 14, 64)   0           ['block_8_add[0][0]',            \n",
      "                                                                  'block_9_project_BN[0][0]']     \n",
      "                                                                                                  \n",
      " block_10_expand (Conv2D)       (None, 14, 14, 384)  24576       ['block_9_add[0][0]']            \n",
      "                                                                                                  \n",
      " block_10_expand_BN (BatchNorma  (None, 14, 14, 384)  1536       ['block_10_expand[0][0]']        \n",
      " lization)                                                                                        \n",
      "                                                                                                  \n",
      " block_10_expand_relu (ReLU)    (None, 14, 14, 384)  0           ['block_10_expand_BN[0][0]']     \n",
      "                                                                                                  \n",
      " block_10_depthwise (DepthwiseC  (None, 14, 14, 384)  3456       ['block_10_expand_relu[0][0]']   \n",
      " onv2D)                                                                                           \n",
      "                                                                                                  \n",
      " block_10_depthwise_BN (BatchNo  (None, 14, 14, 384)  1536       ['block_10_depthwise[0][0]']     \n",
      " rmalization)                                                                                     \n",
      "                                                                                                  \n",
      " block_10_depthwise_relu (ReLU)  (None, 14, 14, 384)  0          ['block_10_depthwise_BN[0][0]']  \n",
      "                                                                                                  \n",
      " block_10_project (Conv2D)      (None, 14, 14, 96)   36864       ['block_10_depthwise_relu[0][0]']\n",
      "                                                                                                  \n",
      " block_10_project_BN (BatchNorm  (None, 14, 14, 96)  384         ['block_10_project[0][0]']       \n",
      " alization)                                                                                       \n",
      "                                                                                                  \n",
      " block_11_expand (Conv2D)       (None, 14, 14, 576)  55296       ['block_10_project_BN[0][0]']    \n",
      "                                                                                                  \n",
      " block_11_expand_BN (BatchNorma  (None, 14, 14, 576)  2304       ['block_11_expand[0][0]']        \n",
      " lization)                                                                                        \n",
      "                                                                                                  \n",
      " block_11_expand_relu (ReLU)    (None, 14, 14, 576)  0           ['block_11_expand_BN[0][0]']     \n",
      "                                                                                                  \n",
      " block_11_depthwise (DepthwiseC  (None, 14, 14, 576)  5184       ['block_11_expand_relu[0][0]']   \n",
      " onv2D)                                                                                           \n",
      "                                                                                                  \n",
      " block_11_depthwise_BN (BatchNo  (None, 14, 14, 576)  2304       ['block_11_depthwise[0][0]']     \n",
      " rmalization)                                                                                     \n",
      "                                                                                                  \n",
      " block_11_depthwise_relu (ReLU)  (None, 14, 14, 576)  0          ['block_11_depthwise_BN[0][0]']  \n",
      "                                                                                                  \n",
      " block_11_project (Conv2D)      (None, 14, 14, 96)   55296       ['block_11_depthwise_relu[0][0]']\n",
      "                                                                                                  \n",
      " block_11_project_BN (BatchNorm  (None, 14, 14, 96)  384         ['block_11_project[0][0]']       \n",
      " alization)                                                                                       \n",
      "                                                                                                  \n",
      " block_11_add (Add)             (None, 14, 14, 96)   0           ['block_10_project_BN[0][0]',    \n",
      "                                                                  'block_11_project_BN[0][0]']    \n",
      "                                                                                                  \n",
      " block_12_expand (Conv2D)       (None, 14, 14, 576)  55296       ['block_11_add[0][0]']           \n",
      "                                                                                                  \n",
      " block_12_expand_BN (BatchNorma  (None, 14, 14, 576)  2304       ['block_12_expand[0][0]']        \n",
      " lization)                                                                                        \n",
      "                                                                                                  \n",
      " block_12_expand_relu (ReLU)    (None, 14, 14, 576)  0           ['block_12_expand_BN[0][0]']     \n",
      "                                                                                                  \n",
      " block_12_depthwise (DepthwiseC  (None, 14, 14, 576)  5184       ['block_12_expand_relu[0][0]']   \n",
      " onv2D)                                                                                           \n",
      "                                                                                                  \n",
      " block_12_depthwise_BN (BatchNo  (None, 14, 14, 576)  2304       ['block_12_depthwise[0][0]']     \n",
      " rmalization)                                                                                     \n",
      "                                                                                                  \n",
      " block_12_depthwise_relu (ReLU)  (None, 14, 14, 576)  0          ['block_12_depthwise_BN[0][0]']  \n",
      "                                                                                                  \n",
      " block_12_project (Conv2D)      (None, 14, 14, 96)   55296       ['block_12_depthwise_relu[0][0]']\n",
      "                                                                                                  \n",
      " block_12_project_BN (BatchNorm  (None, 14, 14, 96)  384         ['block_12_project[0][0]']       \n",
      " alization)                                                                                       \n",
      "                                                                                                  \n",
      " block_12_add (Add)             (None, 14, 14, 96)   0           ['block_11_add[0][0]',           \n",
      "                                                                  'block_12_project_BN[0][0]']    \n",
      "                                                                                                  \n",
      " block_13_expand (Conv2D)       (None, 14, 14, 576)  55296       ['block_12_add[0][0]']           \n",
      "                                                                                                  \n",
      " block_13_expand_BN (BatchNorma  (None, 14, 14, 576)  2304       ['block_13_expand[0][0]']        \n",
      " lization)                                                                                        \n",
      "                                                                                                  \n",
      " block_13_expand_relu (ReLU)    (None, 14, 14, 576)  0           ['block_13_expand_BN[0][0]']     \n",
      "                                                                                                  \n",
      " block_13_pad (ZeroPadding2D)   (None, 15, 15, 576)  0           ['block_13_expand_relu[0][0]']   \n",
      "                                                                                                  \n",
      " block_13_depthwise (DepthwiseC  (None, 7, 7, 576)   5184        ['block_13_pad[0][0]']           \n",
      " onv2D)                                                                                           \n",
      "                                                                                                  \n",
      " block_13_depthwise_BN (BatchNo  (None, 7, 7, 576)   2304        ['block_13_depthwise[0][0]']     \n",
      " rmalization)                                                                                     \n",
      "                                                                                                  \n",
      " block_13_depthwise_relu (ReLU)  (None, 7, 7, 576)   0           ['block_13_depthwise_BN[0][0]']  \n",
      "                                                                                                  \n",
      " block_13_project (Conv2D)      (None, 7, 7, 160)    92160       ['block_13_depthwise_relu[0][0]']\n",
      "                                                                                                  \n",
      " block_13_project_BN (BatchNorm  (None, 7, 7, 160)   640         ['block_13_project[0][0]']       \n",
      " alization)                                                                                       \n",
      "                                                                                                  \n",
      " block_14_expand (Conv2D)       (None, 7, 7, 960)    153600      ['block_13_project_BN[0][0]']    \n",
      "                                                                                                  \n",
      " block_14_expand_BN (BatchNorma  (None, 7, 7, 960)   3840        ['block_14_expand[0][0]']        \n",
      " lization)                                                                                        \n",
      "                                                                                                  \n",
      " block_14_expand_relu (ReLU)    (None, 7, 7, 960)    0           ['block_14_expand_BN[0][0]']     \n",
      "                                                                                                  \n",
      " block_14_depthwise (DepthwiseC  (None, 7, 7, 960)   8640        ['block_14_expand_relu[0][0]']   \n",
      " onv2D)                                                                                           \n",
      "                                                                                                  \n",
      " block_14_depthwise_BN (BatchNo  (None, 7, 7, 960)   3840        ['block_14_depthwise[0][0]']     \n",
      " rmalization)                                                                                     \n",
      "                                                                                                  \n",
      " block_14_depthwise_relu (ReLU)  (None, 7, 7, 960)   0           ['block_14_depthwise_BN[0][0]']  \n",
      "                                                                                                  \n",
      " block_14_project (Conv2D)      (None, 7, 7, 160)    153600      ['block_14_depthwise_relu[0][0]']\n",
      "                                                                                                  \n",
      " block_14_project_BN (BatchNorm  (None, 7, 7, 160)   640         ['block_14_project[0][0]']       \n",
      " alization)                                                                                       \n",
      "                                                                                                  \n",
      " block_14_add (Add)             (None, 7, 7, 160)    0           ['block_13_project_BN[0][0]',    \n",
      "                                                                  'block_14_project_BN[0][0]']    \n",
      "                                                                                                  \n",
      " block_15_expand (Conv2D)       (None, 7, 7, 960)    153600      ['block_14_add[0][0]']           \n",
      "                                                                                                  \n",
      " block_15_expand_BN (BatchNorma  (None, 7, 7, 960)   3840        ['block_15_expand[0][0]']        \n",
      " lization)                                                                                        \n",
      "                                                                                                  \n",
      " block_15_expand_relu (ReLU)    (None, 7, 7, 960)    0           ['block_15_expand_BN[0][0]']     \n",
      "                                                                                                  \n",
      " block_15_depthwise (DepthwiseC  (None, 7, 7, 960)   8640        ['block_15_expand_relu[0][0]']   \n",
      " onv2D)                                                                                           \n",
      "                                                                                                  \n",
      " block_15_depthwise_BN (BatchNo  (None, 7, 7, 960)   3840        ['block_15_depthwise[0][0]']     \n",
      " rmalization)                                                                                     \n",
      "                                                                                                  \n",
      " block_15_depthwise_relu (ReLU)  (None, 7, 7, 960)   0           ['block_15_depthwise_BN[0][0]']  \n",
      "                                                                                                  \n",
      " block_15_project (Conv2D)      (None, 7, 7, 160)    153600      ['block_15_depthwise_relu[0][0]']\n",
      "                                                                                                  \n",
      " block_15_project_BN (BatchNorm  (None, 7, 7, 160)   640         ['block_15_project[0][0]']       \n",
      " alization)                                                                                       \n",
      "                                                                                                  \n",
      " block_15_add (Add)             (None, 7, 7, 160)    0           ['block_14_add[0][0]',           \n",
      "                                                                  'block_15_project_BN[0][0]']    \n",
      "                                                                                                  \n",
      " block_16_expand (Conv2D)       (None, 7, 7, 960)    153600      ['block_15_add[0][0]']           \n",
      "                                                                                                  \n",
      " block_16_expand_BN (BatchNorma  (None, 7, 7, 960)   3840        ['block_16_expand[0][0]']        \n",
      " lization)                                                                                        \n",
      "                                                                                                  \n",
      " block_16_expand_relu (ReLU)    (None, 7, 7, 960)    0           ['block_16_expand_BN[0][0]']     \n",
      "                                                                                                  \n",
      " block_16_depthwise (DepthwiseC  (None, 7, 7, 960)   8640        ['block_16_expand_relu[0][0]']   \n",
      " onv2D)                                                                                           \n",
      "                                                                                                  \n",
      " block_16_depthwise_BN (BatchNo  (None, 7, 7, 960)   3840        ['block_16_depthwise[0][0]']     \n",
      " rmalization)                                                                                     \n",
      "                                                                                                  \n",
      " block_16_depthwise_relu (ReLU)  (None, 7, 7, 960)   0           ['block_16_depthwise_BN[0][0]']  \n",
      "                                                                                                  \n",
      " block_16_project (Conv2D)      (None, 7, 7, 320)    307200      ['block_16_depthwise_relu[0][0]']\n",
      "                                                                                                  \n",
      " block_16_project_BN (BatchNorm  (None, 7, 7, 320)   1280        ['block_16_project[0][0]']       \n",
      " alization)                                                                                       \n",
      "                                                                                                  \n",
      " Conv_1 (Conv2D)                (None, 7, 7, 1280)   409600      ['block_16_project_BN[0][0]']    \n",
      "                                                                                                  \n",
      " Conv_1_bn (BatchNormalization)  (None, 7, 7, 1280)  5120        ['Conv_1[0][0]']                 \n",
      "                                                                                                  \n",
      " out_relu (ReLU)                (None, 7, 7, 1280)   0           ['Conv_1_bn[0][0]']              \n",
      "                                                                                                  \n",
      " global_average_pooling2d (Glob  (None, 1280)        0           ['out_relu[0][0]']               \n",
      " alAveragePooling2D)                                                                              \n",
      "                                                                                                  \n",
      "==================================================================================================\n",
      "Total params: 2,257,984\n",
      "Trainable params: 2,223,872\n",
      "Non-trainable params: 34,112\n",
      "__________________________________________________________________________________________________"
     ]
    }
   ],
   "source": [
    "new_model.summary()"
   ]
  },
  {
   "cell_type": "markdown",
   "id": "468e66e3-0474-4d08-a929-7e5e23d2560f",
   "metadata": {},
   "source": [
    "####  Diffusion des poids du modèle MobileNetV2 à tous les nœuds du cluster Spark en utilisant une variable partagée (broadcast)"
   ]
  },
  {
   "cell_type": "code",
   "execution_count": 12,
   "id": "4bd7ca58-088d-4fc2-a5fb-a7fedc41ba11",
   "metadata": {},
   "outputs": [
    {
     "data": {
      "application/vnd.jupyter.widget-view+json": {
       "model_id": "",
       "version_major": 2,
       "version_minor": 0
      },
      "text/plain": [
       "FloatProgress(value=0.0, bar_style='info', description='Progress:', layout=Layout(height='25px', width='50%'),…"
      ]
     },
     "metadata": {},
     "output_type": "display_data"
    }
   ],
   "source": [
    "brodcast_weights = sc.broadcast(new_model.get_weights())"
   ]
  },
  {
   "cell_type": "code",
   "execution_count": 13,
   "id": "bf388a6d-8cb1-4854-9b55-2b3ea0ce2abe",
   "metadata": {},
   "outputs": [
    {
     "data": {
      "application/vnd.jupyter.widget-view+json": {
       "model_id": "",
       "version_major": 2,
       "version_minor": 0
      },
      "text/plain": [
       "FloatProgress(value=0.0, bar_style='info', description='Progress:', layout=Layout(height='25px', width='50%'),…"
      ]
     },
     "metadata": {},
     "output_type": "display_data"
    }
   ],
   "source": [
    "def model_fn():\n",
    "    \"\"\"\n",
    "    Returns a MobileNetV2 model with top layer removed \n",
    "    and broadcasted pretrained weights.\n",
    "    \"\"\"\n",
    "    model = MobileNetV2(weights='imagenet',\n",
    "                        include_top=True,\n",
    "                        input_shape=(224, 224, 3))\n",
    "    for layer in model.layers:\n",
    "        layer.trainable = False\n",
    "    new_model = Model(inputs=model.input,\n",
    "                  outputs=model.layers[-2].output)\n",
    "    new_model.set_weights(brodcast_weights.value)\n",
    "    return new_model"
   ]
  },
  {
   "cell_type": "markdown",
   "id": "5a08f0b0-c4e1-4818-9d36-c64d6133a6a3",
   "metadata": {},
   "source": [
    "####  Définition du processus de chargement des images et application de leur featurisation"
   ]
  },
  {
   "cell_type": "code",
   "execution_count": 14,
   "id": "474d5906-d4a1-4975-89ff-12f7760813f3",
   "metadata": {},
   "outputs": [
    {
     "data": {
      "application/vnd.jupyter.widget-view+json": {
       "model_id": "",
       "version_major": 2,
       "version_minor": 0
      },
      "text/plain": [
       "FloatProgress(value=0.0, bar_style='info', description='Progress:', layout=Layout(height='25px', width='50%'),…"
      ]
     },
     "metadata": {},
     "output_type": "display_data"
    },
    {
     "name": "stdout",
     "output_type": "stream",
     "text": [
      "/mnt1/yarn/usercache/livy/appcache/application_1725884941093_0001/container_1725884941093_0001_01_000001/pyspark.zip/pyspark/sql/pandas/functions.py:407: UserWarning: In Python 3.6+ and Spark 3.0+, it is preferred to specify type hints for pandas UDF instead of specifying pandas UDF type which will be deprecated in the future releases. See SPARK-28264 for more details."
     ]
    }
   ],
   "source": [
    "def preprocess(content):\n",
    "    \"\"\"\n",
    "    Preprocesses raw image bytes for prediction.\n",
    "    \"\"\"\n",
    "    img = Image.open(io.BytesIO(content)).resize([224, 224])\n",
    "    arr = img_to_array(img)\n",
    "    return preprocess_input(arr)\n",
    "\n",
    "def featurize_series(model, content_series):\n",
    "    \"\"\"\n",
    "    Featurize a pd.Series of raw images using the input model.\n",
    "    :return: a pd.Series of image features\n",
    "    \"\"\"\n",
    "    input = np.stack(content_series.map(preprocess))\n",
    "    preds = model.predict(input)\n",
    "    # For some layers, output features will be multi-dimensional tensors.\n",
    "    # We flatten the feature tensors to vectors for easier storage in Spark DataFrames.\n",
    "    output = [p.flatten() for p in preds]\n",
    "    return pd.Series(output)\n",
    "\n",
    "@pandas_udf('array<float>', PandasUDFType.SCALAR_ITER)\n",
    "def featurize_udf(content_series_iter):\n",
    "    '''\n",
    "    This method is a Scalar Iterator pandas UDF wrapping our featurization function.\n",
    "    The decorator specifies that this returns a Spark DataFrame column of type ArrayType(FloatType).\n",
    "\n",
    "    :param content_series_iter: This argument is an iterator over batches of data, where each batch\n",
    "                              is a pandas Series of image data.\n",
    "    '''\n",
    "    # With Scalar Iterator pandas UDFs, we can load the model once and then re-use it\n",
    "    # for multiple data batches.  This amortizes the overhead of loading big models.\n",
    "    model = model_fn()\n",
    "    for content_series in content_series_iter:\n",
    "        yield featurize_series(model, content_series)"
   ]
  },
  {
   "cell_type": "markdown",
   "id": "7c1de4bb-144e-4694-8945-9cd9ee072452",
   "metadata": {},
   "source": [
    "#### Featurisation par batch du dataframe Spark (un batch représentant un dataframe Pandas d'images de type Series)"
   ]
  },
  {
   "cell_type": "code",
   "execution_count": 15,
   "id": "76492a28-df0f-49fb-a59f-56404699426c",
   "metadata": {},
   "outputs": [
    {
     "data": {
      "application/vnd.jupyter.widget-view+json": {
       "model_id": "",
       "version_major": 2,
       "version_minor": 0
      },
      "text/plain": [
       "FloatProgress(value=0.0, bar_style='info', description='Progress:', layout=Layout(height='25px', width='50%'),…"
      ]
     },
     "metadata": {},
     "output_type": "display_data"
    }
   ],
   "source": [
    "features_df = images.repartition(20).select(col(\"path\"),\n",
    "                                            col(\"label\"),\n",
    "                                            featurize_udf(\"content\").alias(\"features\")\n",
    "                                           )"
   ]
  },
  {
   "cell_type": "code",
   "execution_count": 16,
   "id": "ea1c8bb2-91d8-49fd-9540-58a9d5f16407",
   "metadata": {},
   "outputs": [
    {
     "data": {
      "application/vnd.jupyter.widget-view+json": {
       "model_id": "",
       "version_major": 2,
       "version_minor": 0
      },
      "text/plain": [
       "FloatProgress(value=0.0, bar_style='info', description='Progress:', layout=Layout(height='25px', width='50%'),…"
      ]
     },
     "metadata": {},
     "output_type": "display_data"
    },
    {
     "name": "stdout",
     "output_type": "stream",
     "text": [
      "[('path', 'string'), ('label', 'string'), ('features', 'array<float>')]"
     ]
    }
   ],
   "source": [
    "features_df.dtypes"
   ]
  },
  {
   "cell_type": "markdown",
   "id": "d4c63539-15b0-4cdc-88e2-a8cd13a7d214",
   "metadata": {},
   "source": [
    "#### Déscription de la featurisation de chaque label d'images sous forme de Dataframe"
   ]
  },
  {
   "cell_type": "code",
   "execution_count": 17,
   "id": "d27f355d-4072-4961-afa4-c92b95fa96c2",
   "metadata": {},
   "outputs": [
    {
     "data": {
      "application/vnd.jupyter.widget-view+json": {
       "model_id": "",
       "version_major": 2,
       "version_minor": 0
      },
      "text/plain": [
       "FloatProgress(value=0.0, bar_style='info', description='Progress:', layout=Layout(height='25px', width='50%'),…"
      ]
     },
     "metadata": {},
     "output_type": "display_data"
    },
    {
     "name": "stdout",
     "output_type": "stream",
     "text": [
      "+--------------------+--------------------+--------------------+\n",
      "|                path|               label|            features|\n",
      "+--------------------+--------------------+--------------------+\n",
      "|s3://p08-projet-d...|         apple_hit_1|[0.07385951, 0.45...|\n",
      "|s3://p08-projet-d...|         apple_hit_1|[0.9009807, 0.192...|\n",
      "|s3://p08-projet-d...|         apple_hit_1|[0.0, 0.24412937,...|\n",
      "|s3://p08-projet-d...|         apple_hit_1|[0.941112, 0.0722...|\n",
      "|s3://p08-projet-d...|         apple_hit_1|[0.006548152, 0.1...|\n",
      "|s3://p08-projet-d...|              pear_3|[0.5223791, 0.240...|\n",
      "|s3://p08-projet-d...|         apple_hit_1|[0.48257026, 0.43...|\n",
      "|s3://p08-projet-d...|              pear_3|[0.40664485, 0.11...|\n",
      "|s3://p08-projet-d...|              pear_3|[0.5683563, 0.022...|\n",
      "|s3://p08-projet-d...|         apple_red_3|[0.68562263, 0.0,...|\n",
      "|s3://p08-projet-d...|          cucumber_3|[0.64268076, 0.79...|\n",
      "|s3://p08-projet-d...|         apple_red_3|[0.6739433, 0.036...|\n",
      "|s3://p08-projet-d...|apple_crimson_snow_1|[0.021974145, 0.0...|\n",
      "|s3://p08-projet-d...|          cucumber_3|[1.1221582, 0.847...|\n",
      "|s3://p08-projet-d...|          cucumber_3|[1.4144212, 0.311...|\n",
      "|s3://p08-projet-d...|apple_crimson_snow_1|[0.004254876, 0.3...|\n",
      "|s3://p08-projet-d...|apple_crimson_snow_1|[0.0, 0.08321998,...|\n",
      "|s3://p08-projet-d...|         apple_red_3|[0.33843723, 0.18...|\n",
      "|s3://p08-projet-d...|apple_crimson_snow_1|[0.19192155, 0.17...|\n",
      "|s3://p08-projet-d...|apple_crimson_snow_1|[0.08319002, 0.08...|\n",
      "+--------------------+--------------------+--------------------+\n",
      "only showing top 20 rows"
     ]
    }
   ],
   "source": [
    "features_df.show()"
   ]
  },
  {
   "cell_type": "markdown",
   "id": "407b244a-d9ab-460b-8ef9-7e5414dafa86",
   "metadata": {},
   "source": [
    "## Transformation de l'array des features en Vector"
   ]
  },
  {
   "cell_type": "markdown",
   "id": "f17610bc-4d1f-470d-9712-bbe4361317e9",
   "metadata": {},
   "source": [
    "#### Pre-processing  des features au format colonne."
   ]
  },
  {
   "cell_type": "code",
   "execution_count": 18,
   "id": "e2f9ac37-3d65-4046-a4fc-ce287275e27a",
   "metadata": {},
   "outputs": [
    {
     "data": {
      "application/vnd.jupyter.widget-view+json": {
       "model_id": "",
       "version_major": 2,
       "version_minor": 0
      },
      "text/plain": [
       "FloatProgress(value=0.0, bar_style='info', description='Progress:', layout=Layout(height='25px', width='50%'),…"
      ]
     },
     "metadata": {},
     "output_type": "display_data"
    }
   ],
   "source": [
    "list_to_vector_udf = udf(lambda l: Vectors.dense(l), VectorUDT())"
   ]
  },
  {
   "cell_type": "code",
   "execution_count": 19,
   "id": "0d2ddfe6",
   "metadata": {},
   "outputs": [
    {
     "data": {
      "application/vnd.jupyter.widget-view+json": {
       "model_id": "",
       "version_major": 2,
       "version_minor": 0
      },
      "text/plain": [
       "FloatProgress(value=0.0, bar_style='info', description='Progress:', layout=Layout(height='25px', width='50%'),…"
      ]
     },
     "metadata": {},
     "output_type": "display_data"
    }
   ],
   "source": [
    "df_with_vectors = features_df.select(features_df[\"path\"],\n",
    "                                     features_df[\"label\"],\n",
    "                                     list_to_vector_udf(features_df[\"features\"]).alias(\"features\"))"
   ]
  },
  {
   "cell_type": "code",
   "execution_count": 20,
   "id": "88369889",
   "metadata": {},
   "outputs": [
    {
     "data": {
      "application/vnd.jupyter.widget-view+json": {
       "model_id": "",
       "version_major": 2,
       "version_minor": 0
      },
      "text/plain": [
       "FloatProgress(value=0.0, bar_style='info', description='Progress:', layout=Layout(height='25px', width='50%'),…"
      ]
     },
     "metadata": {},
     "output_type": "display_data"
    },
    {
     "name": "stdout",
     "output_type": "stream",
     "text": [
      "+--------------------+--------------------+--------------------+\n",
      "|                path|               label|            features|\n",
      "+--------------------+--------------------+--------------------+\n",
      "|s3://p08-projet-d...|         apple_hit_1|[0.24259111285209...|\n",
      "|s3://p08-projet-d...|         apple_hit_1|[0.98785418272018...|\n",
      "|s3://p08-projet-d...|         apple_hit_1|[0.14053782820701...|\n",
      "|s3://p08-projet-d...|     cabbage_white_1|[0.0,0.5088325142...|\n",
      "|s3://p08-projet-d...|         apple_hit_1|[0.94111198186874...|\n",
      "|s3://p08-projet-d...|         apple_hit_1|[0.00654815183952...|\n",
      "|s3://p08-projet-d...|         apple_hit_1|[1.00341403484344...|\n",
      "|s3://p08-projet-d...|              pear_3|[0.40664485096931...|\n",
      "|s3://p08-projet-d...|              pear_3|[0.56835627555847...|\n",
      "|s3://p08-projet-d...|              pear_3|[0.70505595207214...|\n",
      "|s3://p08-projet-d...|         apple_red_3|[0.67394328117370...|\n",
      "|s3://p08-projet-d...|apple_crimson_snow_1|[0.02197414450347...|\n",
      "|s3://p08-projet-d...|          cucumber_3|[0.56408214569091...|\n",
      "|s3://p08-projet-d...|          cucumber_3|[0.91571098566055...|\n",
      "|s3://p08-projet-d...|apple_crimson_snow_1|[0.00425487617030...|\n",
      "|s3://p08-projet-d...|         apple_red_3|[0.10705940425395...|\n",
      "|s3://p08-projet-d...|          cucumber_3|[0.94586849212646...|\n",
      "|s3://p08-projet-d...|apple_crimson_snow_1|[0.00682378280907...|\n",
      "|s3://p08-projet-d...|          cucumber_1|[2.04173874855041...|\n",
      "|s3://p08-projet-d...|          cucumber_1|[1.30197262763977...|\n",
      "+--------------------+--------------------+--------------------+\n",
      "only showing top 20 rows"
     ]
    }
   ],
   "source": [
    "df_with_vectors.show()"
   ]
  },
  {
   "cell_type": "markdown",
   "id": "49b009ae-686d-4f01-8a64-0c8f0a5f7e49",
   "metadata": {},
   "source": [
    "## Standardisation "
   ]
  },
  {
   "cell_type": "markdown",
   "id": "b10d72ca-fb6f-4b97-aa52-21a97ee249ad",
   "metadata": {},
   "source": [
    "#### Standardisation des vecteurs de features associés à chaque image"
   ]
  },
  {
   "cell_type": "code",
   "execution_count": 21,
   "id": "a0a70938-0a90-47d0-ac83-66646278d2aa",
   "metadata": {},
   "outputs": [
    {
     "data": {
      "application/vnd.jupyter.widget-view+json": {
       "model_id": "",
       "version_major": 2,
       "version_minor": 0
      },
      "text/plain": [
       "FloatProgress(value=0.0, bar_style='info', description='Progress:', layout=Layout(height='25px', width='50%'),…"
      ]
     },
     "metadata": {},
     "output_type": "display_data"
    },
    {
     "name": "stdout",
     "output_type": "stream",
     "text": [
      "+--------------------+---------------+--------------------+--------------------+\n",
      "|                path|          label|            features|      scaledFeatures|\n",
      "+--------------------+---------------+--------------------+--------------------+\n",
      "|s3://p08-projet-d...|    apple_hit_1|[0.24259111285209...|[-0.3028012314020...|\n",
      "|s3://p08-projet-d...|    apple_hit_1|[0.98785418272018...|[1.42220802088516...|\n",
      "|s3://p08-projet-d...|    apple_hit_1|[0.14053782820701...|[-0.5390169616007...|\n",
      "|s3://p08-projet-d...|cabbage_white_1|[0.0,0.5088325142...|[-0.8643102221354...|\n",
      "|s3://p08-projet-d...|    apple_hit_1|[0.24671451747417...|[-0.2932570698681...|\n",
      "|s3://p08-projet-d...|cabbage_white_1|[0.0,1.0982660055...|[-0.8643102221354...|\n",
      "+--------------------+---------------+--------------------+--------------------+\n",
      "only showing top 6 rows"
     ]
    }
   ],
   "source": [
    "scaler = StandardScaler(\n",
    "    inputCol = 'features',\n",
    "    outputCol = 'scaledFeatures',\n",
    "    withMean = True,\n",
    "    withStd = True\n",
    ").fit(df_with_vectors)\n",
    "\n",
    "df_scaled = scaler.transform(df_with_vectors)\n",
    "df_scaled.show(6)"
   ]
  },
  {
   "cell_type": "markdown",
   "id": "a1eddcfb-08b2-4476-b331-4d8966bcb629",
   "metadata": {},
   "source": [
    "## Réduction de dimension"
   ]
  },
  {
   "cell_type": "code",
   "execution_count": 22,
   "id": "d88048dd-692c-414e-80d6-606ef4fa3cb5",
   "metadata": {},
   "outputs": [
    {
     "data": {
      "application/vnd.jupyter.widget-view+json": {
       "model_id": "",
       "version_major": 2,
       "version_minor": 0
      },
      "text/plain": [
       "FloatProgress(value=0.0, bar_style='info', description='Progress:', layout=Layout(height='25px', width='50%'),…"
      ]
     },
     "metadata": {},
     "output_type": "display_data"
    },
    {
     "name": "stdout",
     "output_type": "stream",
     "text": [
      "Explained Variance Ratio [0.11351862 0.06580965]\n",
      "+--------------------+---------------+--------------------+--------------------+--------------------+\n",
      "|                path|          label|            features|      scaledFeatures|         pcaFeatures|\n",
      "+--------------------+---------------+--------------------+--------------------+--------------------+\n",
      "|s3://p08-projet-d...|    apple_hit_1|[0.07385951280593...|[-0.6933526796099...|[2.47156306968284...|\n",
      "|s3://p08-projet-d...|    apple_hit_1|[0.90098071098327...|[1.22112796126138...|[7.12050062130514...|\n",
      "|s3://p08-projet-d...|    apple_hit_1|[0.24671451747417...|[-0.2932570698681...|[6.62779819883693...|\n",
      "|s3://p08-projet-d...|cabbage_white_1|[0.0,1.0982660055...|[-0.8643102221354...|[20.4530928506329...|\n",
      "|s3://p08-projet-d...|    apple_hit_1|[1.00341403484344...|[1.45822334213487...|[7.48031783818804...|\n",
      "|s3://p08-projet-d...|         pear_3|[0.40664485096931...|[0.07692269101720...|[-6.9077826873077...|\n",
      "|s3://p08-projet-d...|         pear_3|[0.56835627555847...|[0.45122502115441...|[-4.7300163366168...|\n",
      "|s3://p08-projet-d...|         pear_3|[0.70505595207214...|[0.76763437552171...|[-6.3404330908477...|\n",
      "|s3://p08-projet-d...|    apple_red_3|[0.68562263250350...|[0.72265340515847...|[-8.1204788532282...|\n",
      "|s3://p08-projet-d...|     cucumber_3|[0.64268076419830...|[0.62325881131379...|[15.1009358276473...|\n",
      "+--------------------+---------------+--------------------+--------------------+--------------------+\n",
      "only showing top 10 rows"
     ]
    }
   ],
   "source": [
    "pca = PCA(k=2, inputCol=\"scaledFeatures\", outputCol=\"pcaFeatures\")\n",
    "model = pca.fit(df_scaled)\n",
    "result = model.transform(df_scaled)\n",
    "print('Explained Variance Ratio', model.explainedVariance.toArray())\n",
    "result.show(10)"
   ]
  },
  {
   "cell_type": "markdown",
   "id": "22ce5105-2b3a-43de-80fd-8dc0cf0ebb91",
   "metadata": {},
   "source": [
    "## PATH où seront inscrits les fichiers au format \"parquet\""
   ]
  },
  {
   "cell_type": "code",
   "execution_count": 23,
   "id": "112f060a-57ba-41cb-9f9c-63245589e638",
   "metadata": {},
   "outputs": [
    {
     "data": {
      "application/vnd.jupyter.widget-view+json": {
       "model_id": "",
       "version_major": 2,
       "version_minor": 0
      },
      "text/plain": [
       "FloatProgress(value=0.0, bar_style='info', description='Progress:', layout=Layout(height='25px', width='50%'),…"
      ]
     },
     "metadata": {},
     "output_type": "display_data"
    },
    {
     "name": "stdout",
     "output_type": "stream",
     "text": [
      "s3://p08-projet-data/Validation"
     ]
    }
   ],
   "source": [
    "print(PATH_Result)"
   ]
  },
  {
   "cell_type": "markdown",
   "id": "58a72799-502e-4876-8246-d5c7564d01b3",
   "metadata": {},
   "source": [
    "## Enregistrement des données traitées (format \"parquet\")"
   ]
  },
  {
   "cell_type": "code",
   "execution_count": 24,
   "id": "8df7349f-faeb-4a78-acb6-2e90e5ac8c51",
   "metadata": {},
   "outputs": [
    {
     "data": {
      "application/vnd.jupyter.widget-view+json": {
       "model_id": "",
       "version_major": 2,
       "version_minor": 0
      },
      "text/plain": [
       "FloatProgress(value=0.0, bar_style='info', description='Progress:', layout=Layout(height='25px', width='50%'),…"
      ]
     },
     "metadata": {},
     "output_type": "display_data"
    }
   ],
   "source": [
    "result.write.mode(\"overwrite\").parquet(PATH_Result+'/parquet')"
   ]
  },
  {
   "cell_type": "markdown",
   "id": "35bdfc55-7e7d-4f79-8e09-f269aa820e4d",
   "metadata": {},
   "source": [
    "## Enregistrement des données traitées (format \"csv\")"
   ]
  },
  {
   "cell_type": "code",
   "execution_count": 25,
   "id": "51ee359e-959b-43dd-ac9d-4c290ed57900",
   "metadata": {},
   "outputs": [
    {
     "data": {
      "application/vnd.jupyter.widget-view+json": {
       "model_id": "",
       "version_major": 2,
       "version_minor": 0
      },
      "text/plain": [
       "FloatProgress(value=0.0, bar_style='info', description='Progress:', layout=Layout(height='25px', width='50%'),…"
      ]
     },
     "metadata": {},
     "output_type": "display_data"
    }
   ],
   "source": [
    "pca_df = result.toPandas()"
   ]
  },
  {
   "cell_type": "code",
   "execution_count": 26,
   "id": "19ed9b14-4188-4c7f-bb49-c9d6eeef356c",
   "metadata": {},
   "outputs": [
    {
     "data": {
      "application/vnd.jupyter.widget-view+json": {
       "model_id": "",
       "version_major": 2,
       "version_minor": 0
      },
      "text/plain": [
       "FloatProgress(value=0.0, bar_style='info', description='Progress:', layout=Layout(height='25px', width='50%'),…"
      ]
     },
     "metadata": {},
     "output_type": "display_data"
    },
    {
     "name": "stdout",
     "output_type": "stream",
     "text": [
      "                                                  path  ...                                pcaFeatures\n",
      "0     s3://p08-projet-data/Test/apple_hit_1/r0_175.jpg  ...  [2.4715630696828406, -11.594201652340674]\n",
      "1     s3://p08-projet-data/Test/apple_hit_1/r1_263.jpg  ...   [7.120500621305144, -14.576393567307049]\n",
      "2     s3://p08-projet-data/Test/apple_hit_1/r2_163.jpg  ...   [1.0671678241626024, -13.36204269412166]\n",
      "3     s3://p08-projet-data/Test/apple_hit_1/r1_155.jpg  ...  [-1.332690500927604, -10.912372748727593]\n",
      "4     s3://p08-projet-data/Test/apple_hit_1/r2_271.jpg  ...    [5.01081513848441, -15.897631966119318]\n",
      "...                                                ...  ...                                        ...\n",
      "3105      s3://p08-projet-data/Test/apple_6/r1_179.jpg  ...  [0.48068530636768014, -6.644619859468527]\n",
      "3106       s3://p08-projet-data/Test/apple_6/r1_75.jpg  ...  [-1.1384255322765977, -6.103760404375136]\n",
      "3107      s3://p08-projet-data/Test/apple_6/r0_231.jpg  ...  [-1.4011317684253097, -9.001587922171323]\n",
      "3108      s3://p08-projet-data/Test/apple_6/r0_147.jpg  ...  [-2.4469875507332337, -5.611295692481333]\n",
      "3109       s3://p08-projet-data/Test/apple_6/r1_59.jpg  ...  [-3.2823139013483504, -6.084618471074758]\n",
      "\n",
      "[3110 rows x 5 columns]"
     ]
    }
   ],
   "source": [
    "pca_df"
   ]
  },
  {
   "cell_type": "code",
   "execution_count": 27,
   "id": "3f073615-1722-405f-b5b8-80a3150a74d1",
   "metadata": {},
   "outputs": [
    {
     "data": {
      "application/vnd.jupyter.widget-view+json": {
       "model_id": "",
       "version_major": 2,
       "version_minor": 0
      },
      "text/plain": [
       "FloatProgress(value=0.0, bar_style='info', description='Progress:', layout=Layout(height='25px', width='50%'),…"
      ]
     },
     "metadata": {},
     "output_type": "display_data"
    }
   ],
   "source": [
    "pca_df.to_csv(PATH_Result+'/'+'result.csv')"
   ]
  },
  {
   "cell_type": "markdown",
   "id": "e5ab0868-463d-4a41-880c-5961b1cbf154",
   "metadata": {},
   "source": [
    "## Chargement des données enregistrées et validation du résultat"
   ]
  },
  {
   "cell_type": "code",
   "execution_count": 28,
   "id": "bb272c1a-706c-43e2-8fb6-3b86f724eded",
   "metadata": {},
   "outputs": [
    {
     "data": {
      "application/vnd.jupyter.widget-view+json": {
       "model_id": "",
       "version_major": 2,
       "version_minor": 0
      },
      "text/plain": [
       "FloatProgress(value=0.0, bar_style='info', description='Progress:', layout=Layout(height='25px', width='50%'),…"
      ]
     },
     "metadata": {},
     "output_type": "display_data"
    }
   ],
   "source": [
    "dfs = spark.read.parquet(PATH_Result+'/parquet')"
   ]
  },
  {
   "cell_type": "code",
   "execution_count": 29,
   "id": "92df355f-d8e9-4e79-9450-8dae5f081e91",
   "metadata": {},
   "outputs": [
    {
     "data": {
      "application/vnd.jupyter.widget-view+json": {
       "model_id": "",
       "version_major": 2,
       "version_minor": 0
      },
      "text/plain": [
       "FloatProgress(value=0.0, bar_style='info', description='Progress:', layout=Layout(height='25px', width='50%'),…"
      ]
     },
     "metadata": {},
     "output_type": "display_data"
    }
   ],
   "source": [
    "df = dfs.toPandas()"
   ]
  },
  {
   "cell_type": "markdown",
   "id": "607e68e7-e021-46ec-9a3e-e5943452aef2",
   "metadata": {},
   "source": [
    "## Affichage partielle du dataframe"
   ]
  },
  {
   "cell_type": "code",
   "execution_count": 30,
   "id": "8ac5659c-1ef7-4c65-a9bb-0857100418d7",
   "metadata": {},
   "outputs": [
    {
     "data": {
      "application/vnd.jupyter.widget-view+json": {
       "model_id": "",
       "version_major": 2,
       "version_minor": 0
      },
      "text/plain": [
       "FloatProgress(value=0.0, bar_style='info', description='Progress:', layout=Layout(height='25px', width='50%'),…"
      ]
     },
     "metadata": {},
     "output_type": "display_data"
    },
    {
     "name": "stdout",
     "output_type": "stream",
     "text": [
      "                                               path  ...                                 pcaFeatures\n",
      "0  s3://p08-projet-data/Test/apple_hit_1/r0_179.jpg  ...  [0.10636431522734317, -11.122855579103772]\n",
      "1  s3://p08-projet-data/Test/apple_hit_1/r2_171.jpg  ...   [1.9206178539053012, -13.562380455596323]\n",
      "2  s3://p08-projet-data/Test/apple_hit_1/r2_219.jpg  ...   [0.9618222427576699, -12.182892769446788]\n",
      "3  s3://p08-projet-data/Test/apple_hit_1/r0_215.jpg  ...  [-1.3552467770578076, -12.011548832286111]\n",
      "4  s3://p08-projet-data/Test/apple_hit_1/r1_143.jpg  ...   [-2.7216517194804357, -9.763679068877822]\n",
      "\n",
      "[5 rows x 5 columns]"
     ]
    }
   ],
   "source": [
    "df.head(5)"
   ]
  },
  {
   "cell_type": "code",
   "execution_count": 31,
   "id": "fb50ed07-a9c2-42f9-98c3-93fc1741f2cc",
   "metadata": {},
   "outputs": [
    {
     "data": {
      "application/vnd.jupyter.widget-view+json": {
       "model_id": "",
       "version_major": 2,
       "version_minor": 0
      },
      "text/plain": [
       "FloatProgress(value=0.0, bar_style='info', description='Progress:', layout=Layout(height='25px', width='50%'),…"
      ]
     },
     "metadata": {},
     "output_type": "display_data"
    },
    {
     "name": "stdout",
     "output_type": "stream",
     "text": [
      "(2,)"
     ]
    }
   ],
   "source": [
    "df.loc[0,'pcaFeatures'].shape"
   ]
  },
  {
   "cell_type": "code",
   "execution_count": null,
   "id": "9ed385b1-326f-4b62-9608-657776c7181d",
   "metadata": {},
   "outputs": [],
   "source": []
  },
  {
   "cell_type": "code",
   "execution_count": null,
   "id": "81adf8cd-143d-49b1-999f-e95fe267a0df",
   "metadata": {},
   "outputs": [],
   "source": []
  }
 ],
 "metadata": {
  "kernelspec": {
   "display_name": "Python 3 (ipykernel)",
   "language": "python",
   "name": "python3"
  },
  "language_info": {
   "codemirror_mode": {
    "name": "ipython",
    "version": 3
   },
   "file_extension": ".py",
   "mimetype": "text/x-python",
   "name": "python",
   "nbconvert_exporter": "python",
   "pygments_lexer": "ipython3",
   "version": "3.12.4"
  }
 },
 "nbformat": 4,
 "nbformat_minor": 5
}
